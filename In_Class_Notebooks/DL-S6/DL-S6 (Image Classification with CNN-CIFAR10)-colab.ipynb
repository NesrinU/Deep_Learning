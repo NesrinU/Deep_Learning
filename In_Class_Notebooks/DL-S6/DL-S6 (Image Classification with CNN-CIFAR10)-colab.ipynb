{
 "cells": [
  {
   "cell_type": "markdown",
   "metadata": {
    "id": "CHPMEdbBduae"
   },
   "source": [
    "___\n",
    "\n",
    "<p style=\"text-align: center;\"><img src=\"https://docs.google.com/uc?id=1lY0Uj5R04yMY3-ZppPWxqCr5pvBLYPnV\" class=\"img-fluid\" alt=\"CLRSWY\"></p>\n",
    "\n",
    "___"
   ]
  },
  {
   "cell_type": "markdown",
   "metadata": {
    "id": "sm3e6_umduak"
   },
   "source": [
    "<h1 style=\"text-align: center;\">Deep Learning<br><br>Session - 6<br><br>Image Classification with CNN<br><br>CIFAR-10 Data<br><h1>"
   ]
  },
  {
   "cell_type": "markdown",
   "metadata": {
    "id": "XhU2dK-SORVC"
   },
   "source": [
    "# Dataset Info"
   ]
  },
  {
   "cell_type": "markdown",
   "metadata": {
    "id": "HTlTg0LXduam"
   },
   "source": [
    "The CIFAR-10 dataset consists of 60000 32x32 colour images in 10 classes, with 6000 images per class. There are 50000 training images and 10000 test images.\n",
    "\n",
    "The dataset is divided into five training batches and one test batch, each with 10000 images. The test batch contains exactly 1000 randomly-selected images from each class. The training batches contain the remaining images in random order, but some training batches may contain more images from one class than another. Between them, the training batches contain exactly 5000 images from each class.\n",
    "\n",
    "The 10 different classes represent airplanes, cars, birds, cats, deer, dogs, frogs, horses, ships, and trucks.\n",
    "\n",
    "Here are the classes in the dataset, as well as 10 random images from each:\n",
    "\n",
    "![3Dto2D](https://storage.googleapis.com/kaggle-competitions/kaggle/3649/media/cifar-10.png)"
   ]
  },
  {
   "cell_type": "code",
   "execution_count": 1,
   "metadata": {
    "executionInfo": {
     "elapsed": 1058,
     "status": "ok",
     "timestamp": 1649323765399,
     "user": {
      "displayName": "Steve Wallace",
      "userId": "06741533186265949524"
     },
     "user_tz": -180
    },
    "id": "pyjqyftAzSfT"
   },
   "outputs": [],
   "source": [
    "import numpy as np\n",
    "import pandas as pd\n",
    "import matplotlib.pyplot as plt\n",
    "import seaborn as sns\n",
    "\n",
    "import warnings\n",
    "warnings.filterwarnings(\"ignore\")\n",
    "warnings.warn(\"this will not show\")\n",
    "\n",
    "plt.rcParams[\"figure.figsize\"] = (10,6)\n",
    "\n",
    "sns.set_style(\"whitegrid\")\n",
    "pd.set_option('display.float_format', lambda x: '%.3f' % x)\n",
    "\n",
    "# Set it None to display all rows in the dataframe\n",
    "# pd.set_option('display.max_rows', None)\n",
    "\n",
    "# Set it to None to display all columns in the dataframe\n",
    "pd.set_option('display.max_columns', None)"
   ]
  },
  {
   "cell_type": "code",
   "execution_count": 2,
   "metadata": {
    "colab": {
     "base_uri": "https://localhost:8080/"
    },
    "executionInfo": {
     "elapsed": 4865,
     "status": "ok",
     "timestamp": 1649323770260,
     "user": {
      "displayName": "Steve Wallace",
      "userId": "06741533186265949524"
     },
     "user_tz": -180
    },
    "id": "uT45ptcZWgzE",
    "outputId": "e8650eaf-de64-46a8-f9a7-c1fe760c4913"
   },
   "outputs": [
    {
     "data": {
      "text/plain": [
       "[PhysicalDevice(name='/physical_device:GPU:0', device_type='GPU')]"
      ]
     },
     "execution_count": 2,
     "metadata": {},
     "output_type": "execute_result"
    }
   ],
   "source": [
    "import tensorflow as tf\n",
    "\n",
    "tf.config.list_physical_devices(\"GPU\")"
   ]
  },
  {
   "cell_type": "markdown",
   "metadata": {
    "id": "7c9rQQVnduas"
   },
   "source": [
    "# Recognizing and Understanding Data"
   ]
  },
  {
   "cell_type": "code",
   "execution_count": 3,
   "metadata": {
    "colab": {
     "base_uri": "https://localhost:8080/"
    },
    "executionInfo": {
     "elapsed": 7070,
     "status": "ok",
     "timestamp": 1649323777320,
     "user": {
      "displayName": "Steve Wallace",
      "userId": "06741533186265949524"
     },
     "user_tz": -180
    },
    "id": "xmHOOUQUzYbu",
    "outputId": "2d1139e4-a993-4778-e8dc-7d025b50f9ce"
   },
   "outputs": [
    {
     "name": "stdout",
     "output_type": "stream",
     "text": [
      "Downloading data from https://www.cs.toronto.edu/~kriz/cifar-10-python.tar.gz\n",
      "170500096/170498071 [==============================] - 3s 0us/step\n",
      "170508288/170498071 [==============================] - 3s 0us/step\n"
     ]
    }
   ],
   "source": [
    "from tensorflow.keras.datasets import cifar10\n",
    "\n",
    "(X_train, y_train), (X_test, y_test) = cifar10.load_data()"
   ]
  },
  {
   "cell_type": "code",
   "execution_count": 4,
   "metadata": {
    "colab": {
     "base_uri": "https://localhost:8080/"
    },
    "executionInfo": {
     "elapsed": 21,
     "status": "ok",
     "timestamp": 1649323777321,
     "user": {
      "displayName": "Steve Wallace",
      "userId": "06741533186265949524"
     },
     "user_tz": -180
    },
    "id": "JeiYe7OuzdN6",
    "outputId": "30cf9deb-ceb1-4461-ad6c-9bc57c1d0336"
   },
   "outputs": [
    {
     "name": "stdout",
     "output_type": "stream",
     "text": [
      "There are  50000 images in the training dataset\n",
      "There are  10000 images in the test dataset\n"
     ]
    }
   ],
   "source": [
    "print(\"There are \", len(X_train), \"images in the training dataset\")     \n",
    "print(\"There are \", len(X_test), \"images in the test dataset\")"
   ]
  },
  {
   "cell_type": "code",
   "execution_count": 5,
   "metadata": {
    "colab": {
     "base_uri": "https://localhost:8080/"
    },
    "executionInfo": {
     "elapsed": 18,
     "status": "ok",
     "timestamp": 1649323777321,
     "user": {
      "displayName": "Steve Wallace",
      "userId": "06741533186265949524"
     },
     "user_tz": -180
    },
    "id": "9FNlcgiTzj1X",
    "outputId": "cca035ef-37a3-40b0-b51c-980f08e1b985"
   },
   "outputs": [
    {
     "data": {
      "text/plain": [
       "(32, 32, 3)"
      ]
     },
     "execution_count": 5,
     "metadata": {},
     "output_type": "execute_result"
    }
   ],
   "source": [
    "# Checking the shape of one image\n",
    "X_train[5].shape"
   ]
  },
  {
   "cell_type": "code",
   "execution_count": 6,
   "metadata": {
    "colab": {
     "base_uri": "https://localhost:8080/"
    },
    "executionInfo": {
     "elapsed": 14,
     "status": "ok",
     "timestamp": 1649323777321,
     "user": {
      "displayName": "Steve Wallace",
      "userId": "06741533186265949524"
     },
     "user_tz": -180
    },
    "id": "fo95HaLhzn9h",
    "outputId": "d7eca760-5fab-4c68-9632-24a358bd8995"
   },
   "outputs": [
    {
     "data": {
      "text/plain": [
       "array([[[159, 102, 101],\n",
       "        [150,  91,  95],\n",
       "        [153,  95,  97],\n",
       "        ...,\n",
       "        [ 91,  71,  56],\n",
       "        [ 74,  63,  55],\n",
       "        [ 76,  58,  55]],\n",
       "\n",
       "       [[142,  75,  68],\n",
       "        [146,  72,  66],\n",
       "        [155,  76,  65],\n",
       "        ...,\n",
       "        [127, 105,  71],\n",
       "        [122, 111,  93],\n",
       "        [ 86,  69,  61]],\n",
       "\n",
       "       [[109,  67,  75],\n",
       "        [ 99,  58,  60],\n",
       "        [105,  59,  52],\n",
       "        ...,\n",
       "        [137, 112,  80],\n",
       "        [163, 132, 105],\n",
       "        [ 93,  72,  71]],\n",
       "\n",
       "       ...,\n",
       "\n",
       "       [[244, 129,  70],\n",
       "        [240, 123,  65],\n",
       "        [241, 122,  65],\n",
       "        ...,\n",
       "        [156,  42,  15],\n",
       "        [179,  59,  26],\n",
       "        [200,  73,  36]],\n",
       "\n",
       "       [[246, 133,  74],\n",
       "        [243, 128,  72],\n",
       "        [243, 127,  70],\n",
       "        ...,\n",
       "        [162,  44,  14],\n",
       "        [178,  56,  22],\n",
       "        [192,  65,  27]],\n",
       "\n",
       "       [[246, 139,  82],\n",
       "        [243, 133,  78],\n",
       "        [244, 132,  77],\n",
       "        ...,\n",
       "        [166,  47,  14],\n",
       "        [173,  51,  17],\n",
       "        [182,  57,  19]]], dtype=uint8)"
      ]
     },
     "execution_count": 6,
     "metadata": {},
     "output_type": "execute_result"
    }
   ],
   "source": [
    "X_train[5]"
   ]
  },
  {
   "cell_type": "code",
   "execution_count": 7,
   "metadata": {
    "colab": {
     "base_uri": "https://localhost:8080/",
     "height": 283
    },
    "executionInfo": {
     "elapsed": 889,
     "status": "ok",
     "timestamp": 1649323778199,
     "user": {
      "displayName": "Steve Wallace",
      "userId": "06741533186265949524"
     },
     "user_tz": -180
    },
    "id": "nAlrzyEHzr68",
    "outputId": "9645e4d7-ed2b-4d3d-a728-a950a6188239"
   },
   "outputs": [
    {
     "data": {
      "text/plain": [
       "<matplotlib.image.AxesImage at 0x7f1f330e3bd0>"
      ]
     },
     "execution_count": 7,
     "metadata": {},
     "output_type": "execute_result"
    },
    {
     "data": {
      "image/png": "[encoded data removed]",
      "text/plain": [
       "<Figure size 432x288 with 1 Axes>"
      ]
     },
     "metadata": {
      "needs_background": "light"
     },
     "output_type": "display_data"
    }
   ],
   "source": [
    "plt.imshow(X_train[5])\n",
    "# plt.matshow(X_train[5])"
   ]
  },
  {
   "cell_type": "code",
   "execution_count": 8,
   "metadata": {
    "colab": {
     "base_uri": "https://localhost:8080/"
    },
    "executionInfo": {
     "elapsed": 36,
     "status": "ok",
     "timestamp": 1649323778201,
     "user": {
      "displayName": "Steve Wallace",
      "userId": "06741533186265949524"
     },
     "user_tz": -180
    },
    "id": "zP9FMA-D0Dho",
    "outputId": "6aa82a37-7afd-421f-d1d3-9332da67e654"
   },
   "outputs": [
    {
     "data": {
      "text/plain": [
       "array([1], dtype=uint8)"
      ]
     },
     "execution_count": 8,
     "metadata": {},
     "output_type": "execute_result"
    }
   ],
   "source": [
    "y_train[5]"
   ]
  },
  {
   "cell_type": "code",
   "execution_count": 9,
   "metadata": {
    "colab": {
     "base_uri": "https://localhost:8080/"
    },
    "executionInfo": {
     "elapsed": 28,
     "status": "ok",
     "timestamp": 1649323778202,
     "user": {
      "displayName": "Steve Wallace",
      "userId": "06741533186265949524"
     },
     "user_tz": -180
    },
    "id": "iKDyT-p4duax",
    "outputId": "81c8d0e3-36b0-4e14-9871-9644347e32bf"
   },
   "outputs": [
    {
     "data": {
      "text/plain": [
       "(50000, 1)"
      ]
     },
     "execution_count": 9,
     "metadata": {},
     "output_type": "execute_result"
    }
   ],
   "source": [
    "y_train.shape"
   ]
  },
  {
   "cell_type": "code",
   "execution_count": 10,
   "metadata": {
    "colab": {
     "base_uri": "https://localhost:8080/"
    },
    "executionInfo": {
     "elapsed": 391,
     "status": "ok",
     "timestamp": 1649323778568,
     "user": {
      "displayName": "Steve Wallace",
      "userId": "06741533186265949524"
     },
     "user_tz": -180
    },
    "id": "s9K3sg6Vduax",
    "outputId": "841233c0-8c2a-422b-b067-6dfc5734cb38"
   },
   "outputs": [
    {
     "data": {
      "text/plain": [
       "array([[6],\n",
       "       [9],\n",
       "       [9],\n",
       "       ...,\n",
       "       [9],\n",
       "       [1],\n",
       "       [1]], dtype=uint8)"
      ]
     },
     "execution_count": 10,
     "metadata": {},
     "output_type": "execute_result"
    }
   ],
   "source": [
    "y_train"
   ]
  },
  {
   "cell_type": "code",
   "execution_count": 11,
   "metadata": {
    "colab": {
     "base_uri": "https://localhost:8080/"
    },
    "executionInfo": {
     "elapsed": 32,
     "status": "ok",
     "timestamp": 1649323778569,
     "user": {
      "displayName": "Steve Wallace",
      "userId": "06741533186265949524"
     },
     "user_tz": -180
    },
    "id": "rSfdoMtyduax",
    "outputId": "7a7131e2-9bc5-4701-b8ae-744b0512b0f0"
   },
   "outputs": [
    {
     "data": {
      "text/plain": [
       "(array([0, 1, 2, 3, 4, 5, 6, 7, 8, 9], dtype=uint8),\n",
       " array([5000, 5000, 5000, 5000, 5000, 5000, 5000, 5000, 5000, 5000]))"
      ]
     },
     "execution_count": 11,
     "metadata": {},
     "output_type": "execute_result"
    }
   ],
   "source": [
    "np.unique(y_train, return_counts=True)"
   ]
  },
  {
   "cell_type": "markdown",
   "metadata": {
    "id": "dDISV_tbduay"
   },
   "source": [
    "**Class names:**\n",
    "\n",
    "- 0: Airplane\n",
    "- 1: Automobile\n",
    "- 2: Bird\n",
    "- 3: Cat\n",
    "- 4: Deer\n",
    "- 5: Dog\n",
    "- 6: Frog\n",
    "- 7: Horse\n",
    "- 8: Ship\n",
    "- 9: Truck"
   ]
  },
  {
   "cell_type": "code",
   "execution_count": 12,
   "metadata": {
    "executionInfo": {
     "elapsed": 32,
     "status": "ok",
     "timestamp": 1649323778570,
     "user": {
      "displayName": "Steve Wallace",
      "userId": "06741533186265949524"
     },
     "user_tz": -180
    },
    "id": "2CvLychSAaB5"
   },
   "outputs": [],
   "source": [
    "classes = [\"airplane\",\"automobile\",\"bird\",\"cat\",\"deer\",\"dog\",\"frog\",\"horse\",\"ship\",\"truck\"]"
   ]
  },
  {
   "cell_type": "code",
   "execution_count": 13,
   "metadata": {
    "colab": {
     "base_uri": "https://localhost:8080/"
    },
    "executionInfo": {
     "elapsed": 31,
     "status": "ok",
     "timestamp": 1649323778570,
     "user": {
      "displayName": "Steve Wallace",
      "userId": "06741533186265949524"
     },
     "user_tz": -180
    },
    "id": "yUk9xoJ3duaz",
    "outputId": "acdde91f-9069-47f0-9139-4926ef859889"
   },
   "outputs": [
    {
     "data": {
      "text/plain": [
       "array([6], dtype=uint8)"
      ]
     },
     "execution_count": 13,
     "metadata": {},
     "output_type": "execute_result"
    }
   ],
   "source": [
    "y_train[0]"
   ]
  },
  {
   "cell_type": "code",
   "execution_count": 14,
   "metadata": {
    "colab": {
     "base_uri": "https://localhost:8080/",
     "height": 35
    },
    "executionInfo": {
     "elapsed": 30,
     "status": "ok",
     "timestamp": 1649323778572,
     "user": {
      "displayName": "Steve Wallace",
      "userId": "06741533186265949524"
     },
     "user_tz": -180
    },
    "id": "HAcdK65jduaz",
    "outputId": "c9503ca5-7e9d-4544-ed3c-f5167fcef071"
   },
   "outputs": [
    {
     "data": {
      "application/vnd.google.colaboratory.intrinsic+json": {
       "type": "string"
      },
      "text/plain": [
       "'frog'"
      ]
     },
     "execution_count": 14,
     "metadata": {},
     "output_type": "execute_result"
    }
   ],
   "source": [
    "classes[y_train[0][0]]"
   ]
  },
  {
   "cell_type": "code",
   "execution_count": 15,
   "metadata": {
    "colab": {
     "base_uri": "https://localhost:8080/",
     "height": 35
    },
    "executionInfo": {
     "elapsed": 30,
     "status": "ok",
     "timestamp": 1649323778573,
     "user": {
      "displayName": "Steve Wallace",
      "userId": "06741533186265949524"
     },
     "user_tz": -180
    },
    "id": "P5dL9Uszduaz",
    "outputId": "79bdf303-36bd-44d6-90ee-24b25ceca5a5"
   },
   "outputs": [
    {
     "data": {
      "application/vnd.google.colaboratory.intrinsic+json": {
       "type": "string"
      },
      "text/plain": [
       "'frog'"
      ]
     },
     "execution_count": 15,
     "metadata": {},
     "output_type": "execute_result"
    }
   ],
   "source": [
    "classes[int(y_train[0])]"
   ]
  },
  {
   "cell_type": "code",
   "execution_count": 16,
   "metadata": {
    "executionInfo": {
     "elapsed": 37,
     "status": "ok",
     "timestamp": 1649323778574,
     "user": {
      "displayName": "Steve Wallace",
      "userId": "06741533186265949524"
     },
     "user_tz": -180
    },
    "id": "BfgOJM10dua0"
   },
   "outputs": [],
   "source": [
    "#int(np.random.randint(low=0, high=50000, size=1))"
   ]
  },
  {
   "cell_type": "code",
   "execution_count": 17,
   "metadata": {
    "executionInfo": {
     "elapsed": 37,
     "status": "ok",
     "timestamp": 1649323778582,
     "user": {
      "displayName": "Steve Wallace",
      "userId": "06741533186265949524"
     },
     "user_tz": -180
    },
    "id": "3apc7Z9kdua0"
   },
   "outputs": [],
   "source": [
    "#X_train[int(np.random.randint(low=0, high=50000, size=1))]"
   ]
  },
  {
   "cell_type": "code",
   "execution_count": 86,
   "metadata": {
    "colab": {
     "base_uri": "https://localhost:8080/",
     "height": 1000
    },
    "executionInfo": {
     "elapsed": 11980,
     "status": "ok",
     "timestamp": 1649325749641,
     "user": {
      "displayName": "Steve Wallace",
      "userId": "06741533186265949524"
     },
     "user_tz": -180
    },
    "id": "Xu3eRR-oAbf1",
    "outputId": "4ba1a1bf-07c6-4e1a-9472-fd559ae6e9a8"
   },
   "outputs": [
    {
     "data": {
      "image/png": "[encoded data removed]",
      "text/plain": [
       "<Figure size 1440x1440 with 64 Axes>"
      ]
     },
     "metadata": {
      "needs_background": "light"
     },
     "output_type": "display_data"
    }
   ],
   "source": [
    "plt.figure(figsize=(20, 20))\n",
    "for i in range(64):\n",
    "    rand_index = int(np.random.randint(low=0, high=50000, size=1))\n",
    "    plt.subplot(8, 8, i+1)\n",
    "    plt.axis('off')\n",
    "    plt.title(classes[int(y_train[rand_index])])\n",
    "    plt.imshow(X_train[rand_index])"
   ]
  },
  {
   "cell_type": "markdown",
   "metadata": {
    "id": "-_pXVdp-y8Mo"
   },
   "source": [
    "# Data Preprocessing"
   ]
  },
  {
   "cell_type": "code",
   "execution_count": 19,
   "metadata": {
    "colab": {
     "base_uri": "https://localhost:8080/"
    },
    "executionInfo": {
     "elapsed": 51,
     "status": "ok",
     "timestamp": 1649323851793,
     "user": {
      "displayName": "Steve Wallace",
      "userId": "06741533186265949524"
     },
     "user_tz": -180
    },
    "id": "_XspA3CDLpm6",
    "outputId": "57450757-7974-48c1-f3ff-f58049ae7b28"
   },
   "outputs": [
    {
     "data": {
      "text/plain": [
       "0"
      ]
     },
     "execution_count": 19,
     "metadata": {},
     "output_type": "execute_result"
    }
   ],
   "source": [
    "X_train[5].min()"
   ]
  },
  {
   "cell_type": "code",
   "execution_count": 20,
   "metadata": {
    "colab": {
     "base_uri": "https://localhost:8080/"
    },
    "executionInfo": {
     "elapsed": 46,
     "status": "ok",
     "timestamp": 1649323851794,
     "user": {
      "displayName": "Steve Wallace",
      "userId": "06741533186265949524"
     },
     "user_tz": -180
    },
    "id": "XJefIibxLqf2",
    "outputId": "39e75e68-caf8-41fc-b145-6f3a20de11bd"
   },
   "outputs": [
    {
     "data": {
      "text/plain": [
       "252"
      ]
     },
     "execution_count": 20,
     "metadata": {},
     "output_type": "execute_result"
    }
   ],
   "source": [
    "X_train[5].max()"
   ]
  },
  {
   "cell_type": "code",
   "execution_count": 21,
   "metadata": {
    "executionInfo": {
     "elapsed": 45,
     "status": "ok",
     "timestamp": 1649323851795,
     "user": {
      "displayName": "Steve Wallace",
      "userId": "06741533186265949524"
     },
     "user_tz": -180
    },
    "id": "m_eSMmhJFqRA"
   },
   "outputs": [],
   "source": [
    "# Normalize image pixels\n",
    "\n",
    "X_train = X_train.astype('float32')\n",
    "X_test = X_test.astype('float32')\n",
    "X_train /= 255\n",
    "X_test /= 255"
   ]
  },
  {
   "cell_type": "code",
   "execution_count": 22,
   "metadata": {
    "colab": {
     "base_uri": "https://localhost:8080/"
    },
    "executionInfo": {
     "elapsed": 45,
     "status": "ok",
     "timestamp": 1649323851796,
     "user": {
      "displayName": "Steve Wallace",
      "userId": "06741533186265949524"
     },
     "user_tz": -180
    },
    "id": "-NqymetKL1Lb",
    "outputId": "7e213e54-98c9-4ce8-92cf-af5411bbbfd7"
   },
   "outputs": [
    {
     "data": {
      "text/plain": [
       "0.0"
      ]
     },
     "execution_count": 22,
     "metadata": {},
     "output_type": "execute_result"
    }
   ],
   "source": [
    "X_train[5].min()"
   ]
  },
  {
   "cell_type": "code",
   "execution_count": 23,
   "metadata": {
    "colab": {
     "base_uri": "https://localhost:8080/"
    },
    "executionInfo": {
     "elapsed": 42,
     "status": "ok",
     "timestamp": 1649323851796,
     "user": {
      "displayName": "Steve Wallace",
      "userId": "06741533186265949524"
     },
     "user_tz": -180
    },
    "id": "SOU_kW9nL1OD",
    "outputId": "57afb67f-0393-4e67-84ae-41b58e195aa0"
   },
   "outputs": [
    {
     "data": {
      "text/plain": [
       "0.9882353"
      ]
     },
     "execution_count": 23,
     "metadata": {},
     "output_type": "execute_result"
    }
   ],
   "source": [
    "X_train[5].max()"
   ]
  },
  {
   "cell_type": "code",
   "execution_count": 24,
   "metadata": {
    "colab": {
     "base_uri": "https://localhost:8080/",
     "height": 283
    },
    "executionInfo": {
     "elapsed": 580,
     "status": "ok",
     "timestamp": 1649323852336,
     "user": {
      "displayName": "Steve Wallace",
      "userId": "06741533186265949524"
     },
     "user_tz": -180
    },
    "id": "Jrp0SbiHL7aA",
    "outputId": "10369593-2b7f-46a5-effc-c9e2dc7d60f5"
   },
   "outputs": [
    {
     "data": {
      "text/plain": [
       "<matplotlib.image.AxesImage at 0x7f1ebc8b6110>"
      ]
     },
     "execution_count": 24,
     "metadata": {},
     "output_type": "execute_result"
    },
    {
     "data": {
      "image/png": "[encoded data removed]",
      "text/plain": [
       "<Figure size 432x288 with 1 Axes>"
      ]
     },
     "metadata": {
      "needs_background": "light"
     },
     "output_type": "display_data"
    }
   ],
   "source": [
    "plt.imshow(X_train[5])"
   ]
  },
  {
   "cell_type": "code",
   "execution_count": 25,
   "metadata": {
    "colab": {
     "base_uri": "https://localhost:8080/"
    },
    "executionInfo": {
     "elapsed": 97,
     "status": "ok",
     "timestamp": 1649323852337,
     "user": {
      "displayName": "Steve Wallace",
      "userId": "06741533186265949524"
     },
     "user_tz": -180
    },
    "id": "5nLub1tMFqOc",
    "outputId": "4272650c-e617-43d3-8231-e82a6c195978"
   },
   "outputs": [
    {
     "data": {
      "text/plain": [
       "((50000, 32, 32, 3), (10000, 32, 32, 3))"
      ]
     },
     "execution_count": 25,
     "metadata": {},
     "output_type": "execute_result"
    }
   ],
   "source": [
    "X_train.shape, X_test.shape"
   ]
  },
  {
   "cell_type": "code",
   "execution_count": 26,
   "metadata": {
    "colab": {
     "base_uri": "https://localhost:8080/"
    },
    "executionInfo": {
     "elapsed": 73,
     "status": "ok",
     "timestamp": 1649323852339,
     "user": {
      "displayName": "Steve Wallace",
      "userId": "06741533186265949524"
     },
     "user_tz": -180
    },
    "id": "7r8BUJwuL-a6",
    "outputId": "b82644ad-d5d5-45ef-c844-015270786369"
   },
   "outputs": [
    {
     "data": {
      "text/plain": [
       "array([[6],\n",
       "       [9],\n",
       "       [9],\n",
       "       ...,\n",
       "       [9],\n",
       "       [1],\n",
       "       [1]], dtype=uint8)"
      ]
     },
     "execution_count": 26,
     "metadata": {},
     "output_type": "execute_result"
    }
   ],
   "source": [
    "y_train"
   ]
  },
  {
   "cell_type": "code",
   "execution_count": 27,
   "metadata": {
    "executionInfo": {
     "elapsed": 58,
     "status": "ok",
     "timestamp": 1649323852340,
     "user": {
      "displayName": "Steve Wallace",
      "userId": "06741533186265949524"
     },
     "user_tz": -180
    },
    "id": "z3CBRoZ1GWHh"
   },
   "outputs": [],
   "source": [
    "from tensorflow.keras.utils import to_categorical"
   ]
  },
  {
   "cell_type": "code",
   "execution_count": 28,
   "metadata": {
    "colab": {
     "base_uri": "https://localhost:8080/"
    },
    "executionInfo": {
     "elapsed": 72,
     "status": "ok",
     "timestamp": 1649323852355,
     "user": {
      "displayName": "Steve Wallace",
      "userId": "06741533186265949524"
     },
     "user_tz": -180
    },
    "id": "rwav3vH5FqT9",
    "outputId": "c3653374-71cd-4f13-83d2-3434d4b4ad61"
   },
   "outputs": [
    {
     "data": {
      "text/plain": [
       "(10000, 10)"
      ]
     },
     "execution_count": 28,
     "metadata": {},
     "output_type": "execute_result"
    }
   ],
   "source": [
    "Y_train = to_categorical(y_train, 10) \n",
    "Y_test = to_categorical(y_test, 10)\n",
    "Y_test.shape"
   ]
  },
  {
   "cell_type": "code",
   "execution_count": 29,
   "metadata": {
    "colab": {
     "base_uri": "https://localhost:8080/"
    },
    "executionInfo": {
     "elapsed": 62,
     "status": "ok",
     "timestamp": 1649323852359,
     "user": {
      "displayName": "Steve Wallace",
      "userId": "06741533186265949524"
     },
     "user_tz": -180
    },
    "id": "dgjaPfxHdua4",
    "outputId": "f7af49e6-89c9-49b2-e40f-c94b129b6a25"
   },
   "outputs": [
    {
     "data": {
      "text/plain": [
       "array([0., 0., 0., 0., 0., 0., 1., 0., 0., 0.], dtype=float32)"
      ]
     },
     "execution_count": 29,
     "metadata": {},
     "output_type": "execute_result"
    }
   ],
   "source": [
    "Y_train[0]"
   ]
  },
  {
   "cell_type": "markdown",
   "metadata": {
    "id": "p7xqe-B-dua4"
   },
   "source": [
    "# Modelling-1"
   ]
  },
  {
   "cell_type": "code",
   "execution_count": 30,
   "metadata": {
    "executionInfo": {
     "elapsed": 57,
     "status": "ok",
     "timestamp": 1649323852361,
     "user": {
      "displayName": "Steve Wallace",
      "userId": "06741533186265949524"
     },
     "user_tz": -180
    },
    "id": "EAvdD1-IHYaV"
   },
   "outputs": [],
   "source": [
    "from tensorflow.keras.models import Sequential\n",
    "from tensorflow.keras.layers import Dense, Conv2D, MaxPool2D, Flatten, Dropout"
   ]
  },
  {
   "cell_type": "code",
   "execution_count": 31,
   "metadata": {
    "executionInfo": {
     "elapsed": 1494,
     "status": "ok",
     "timestamp": 1649323853804,
     "user": {
      "displayName": "Steve Wallace",
      "userId": "06741533186265949524"
     },
     "user_tz": -180
    },
    "id": "1XKYFc5cGD92"
   },
   "outputs": [],
   "source": [
    "model = Sequential()\n",
    "\n",
    "model.add(Conv2D(filters=32, kernel_size=(3,3), input_shape=(32, 32, 3), activation='relu', padding='same'))\n",
    "model.add(MaxPool2D(pool_size=(2, 2)))\n",
    "\n",
    "model.add(Conv2D(filters=32, kernel_size=(3,3), activation='relu', padding='same'))\n",
    "model.add(MaxPool2D(pool_size=(2, 2)))\n",
    "\n",
    "model.add(Flatten())\n",
    "\n",
    "model.add(Dense(128, activation='relu'))\n",
    "model.add(Dense(64, activation='relu'))\n",
    "model.add(Dense(10, activation='softmax'))\n",
    "\n",
    "model.compile(loss='categorical_crossentropy',\n",
    "              optimizer='adam',\n",
    "              metrics=['accuracy'])"
   ]
  },
  {
   "cell_type": "code",
   "execution_count": 32,
   "metadata": {
    "colab": {
     "base_uri": "https://localhost:8080/"
    },
    "executionInfo": {
     "elapsed": 600,
     "status": "ok",
     "timestamp": 1649323854387,
     "user": {
      "displayName": "Steve Wallace",
      "userId": "06741533186265949524"
     },
     "user_tz": -180
    },
    "id": "7dlzbf8cLVu0",
    "outputId": "76ecfa6c-881d-452d-c9ba-32b51c94a92b"
   },
   "outputs": [
    {
     "name": "stdout",
     "output_type": "stream",
     "text": [
      "Model: \"sequential\"\n",
      "_________________________________________________________________\n",
      " Layer (type)                Output Shape              Param #   \n",
      "=================================================================\n",
      " conv2d (Conv2D)             (None, 32, 32, 32)        896       \n",
      "                                                                 \n",
      " max_pooling2d (MaxPooling2D  (None, 16, 16, 32)       0         \n",
      " )                                                               \n",
      "                                                                 \n",
      " conv2d_1 (Conv2D)           (None, 16, 16, 32)        9248      \n",
      "                                                                 \n",
      " max_pooling2d_1 (MaxPooling  (None, 8, 8, 32)         0         \n",
      " 2D)                                                             \n",
      "                                                                 \n",
      " flatten (Flatten)           (None, 2048)              0         \n",
      "                                                                 \n",
      " dense (Dense)               (None, 128)               262272    \n",
      "                                                                 \n",
      " dense_1 (Dense)             (None, 64)                8256      \n",
      "                                                                 \n",
      " dense_2 (Dense)             (None, 10)                650       \n",
      "                                                                 \n",
      "=================================================================\n",
      "Total params: 281,322\n",
      "Trainable params: 281,322\n",
      "Non-trainable params: 0\n",
      "_________________________________________________________________\n"
     ]
    }
   ],
   "source": [
    "model.summary()"
   ]
  },
  {
   "cell_type": "code",
   "execution_count": 33,
   "metadata": {
    "executionInfo": {
     "elapsed": 8,
     "status": "ok",
     "timestamp": 1649323854387,
     "user": {
      "displayName": "Steve Wallace",
      "userId": "06741533186265949524"
     },
     "user_tz": -180
    },
    "id": "hOuwgRVZGEAu"
   },
   "outputs": [],
   "source": [
    "from tensorflow.keras.callbacks import EarlyStopping"
   ]
  },
  {
   "cell_type": "code",
   "execution_count": 34,
   "metadata": {
    "executionInfo": {
     "elapsed": 8,
     "status": "ok",
     "timestamp": 1649323854387,
     "user": {
      "displayName": "Steve Wallace",
      "userId": "06741533186265949524"
     },
     "user_tz": -180
    },
    "id": "rtIURzRFGEDN"
   },
   "outputs": [],
   "source": [
    "early_stop = EarlyStopping(monitor='val_loss', patience=2, restore_best_weights = True)"
   ]
  },
  {
   "cell_type": "code",
   "execution_count": 35,
   "metadata": {
    "colab": {
     "base_uri": "https://localhost:8080/"
    },
    "executionInfo": {
     "elapsed": 135909,
     "status": "ok",
     "timestamp": 1649323990289,
     "user": {
      "displayName": "Steve Wallace",
      "userId": "06741533186265949524"
     },
     "user_tz": -180
    },
    "id": "-IDJimxdKq-k",
    "outputId": "ee19b708-00e4-4772-8153-0c9fa1e648a2"
   },
   "outputs": [
    {
     "name": "stdout",
     "output_type": "stream",
     "text": [
      "Epoch 1/50\n",
      "1563/1563 [==============================] - 21s 8ms/step - loss: 1.4224 - accuracy: 0.4850 - val_loss: 1.2088 - val_accuracy: 0.5682\n",
      "Epoch 2/50\n",
      "1563/1563 [==============================] - 13s 8ms/step - loss: 1.0667 - accuracy: 0.6226 - val_loss: 0.9915 - val_accuracy: 0.6542\n",
      "Epoch 3/50\n",
      "1563/1563 [==============================] - 11s 7ms/step - loss: 0.9213 - accuracy: 0.6750 - val_loss: 0.9324 - val_accuracy: 0.6787\n",
      "Epoch 4/50\n",
      "1563/1563 [==============================] - 12s 7ms/step - loss: 0.8309 - accuracy: 0.7077 - val_loss: 0.9052 - val_accuracy: 0.6839\n",
      "Epoch 5/50\n",
      "1563/1563 [==============================] - 11s 7ms/step - loss: 0.7554 - accuracy: 0.7349 - val_loss: 0.8919 - val_accuracy: 0.6948\n",
      "Epoch 6/50\n",
      "1563/1563 [==============================] - 11s 7ms/step - loss: 0.6902 - accuracy: 0.7604 - val_loss: 0.8716 - val_accuracy: 0.7018\n",
      "Epoch 7/50\n",
      "1563/1563 [==============================] - 11s 7ms/step - loss: 0.6312 - accuracy: 0.7809 - val_loss: 0.8958 - val_accuracy: 0.6990\n",
      "Epoch 8/50\n",
      "1563/1563 [==============================] - 11s 7ms/step - loss: 0.5761 - accuracy: 0.7981 - val_loss: 0.8873 - val_accuracy: 0.7062\n",
      "Epoch 9/50\n",
      "1563/1563 [==============================] - 11s 7ms/step - loss: 0.5255 - accuracy: 0.8134 - val_loss: 0.9654 - val_accuracy: 0.6938\n",
      "Epoch 10/50\n",
      "1563/1563 [==============================] - 11s 7ms/step - loss: 0.4770 - accuracy: 0.8310 - val_loss: 0.9627 - val_accuracy: 0.6957\n",
      "Epoch 11/50\n",
      "1563/1563 [==============================] - 11s 7ms/step - loss: 0.4383 - accuracy: 0.8467 - val_loss: 1.0445 - val_accuracy: 0.7005\n"
     ]
    },
    {
     "data": {
      "text/plain": [
       "<keras.callbacks.History at 0x7f1ebae9e0d0>"
      ]
     },
     "execution_count": 35,
     "metadata": {},
     "output_type": "execute_result"
    }
   ],
   "source": [
    "model.fit(X_train, Y_train, batch_size=32, epochs=50, validation_data=(X_test,Y_test),callbacks=[early_stop])"
   ]
  },
  {
   "cell_type": "code",
   "execution_count": 36,
   "metadata": {
    "colab": {
     "base_uri": "https://localhost:8080/"
    },
    "executionInfo": {
     "elapsed": 12,
     "status": "ok",
     "timestamp": 1649323990289,
     "user": {
      "displayName": "Steve Wallace",
      "userId": "06741533186265949524"
     },
     "user_tz": -180
    },
    "id": "wNmOLqBv1Kqn",
    "outputId": "e8632c8e-773f-4c03-f06e-9948b2bf6499"
   },
   "outputs": [
    {
     "data": {
      "text/plain": [
       "['loss', 'accuracy']"
      ]
     },
     "execution_count": 36,
     "metadata": {},
     "output_type": "execute_result"
    }
   ],
   "source": [
    "model.metrics_names"
   ]
  },
  {
   "cell_type": "code",
   "execution_count": 37,
   "metadata": {
    "colab": {
     "base_uri": "https://localhost:8080/",
     "height": 206
    },
    "executionInfo": {
     "elapsed": 7423,
     "status": "ok",
     "timestamp": 1649323997705,
     "user": {
      "displayName": "Steve Wallace",
      "userId": "06741533186265949524"
     },
     "user_tz": -180
    },
    "id": "2zYPEYGK2qyc",
    "outputId": "db80e366-cccb-4a53-f76d-98f77e10fa3a"
   },
   "outputs": [
    {
     "data": {
      "text/html": [
       "\n",
       "  <div id=\"df-ce434b07-b262-4704-bb61-ae1d725e42ff\">\n",
       "    <div class=\"colab-df-container\">\n",
       "      <div>\n",
       "<style scoped>\n",
       "    .dataframe tbody tr th:only-of-type {\n",
       "        vertical-align: middle;\n",
       "    }\n",
       "\n",
       "    .dataframe tbody tr th {\n",
       "        vertical-align: top;\n",
       "    }\n",
       "\n",
       "    .dataframe thead th {\n",
       "        text-align: right;\n",
       "    }\n",
       "</style>\n",
       "<table border=\"1\" class=\"dataframe\">\n",
       "  <thead>\n",
       "    <tr style=\"text-align: right;\">\n",
       "      <th></th>\n",
       "      <th>loss</th>\n",
       "      <th>accuracy</th>\n",
       "      <th>val_loss</th>\n",
       "      <th>val_accuracy</th>\n",
       "    </tr>\n",
       "  </thead>\n",
       "  <tbody>\n",
       "    <tr>\n",
       "      <th>0</th>\n",
       "      <td>1.422</td>\n",
       "      <td>0.485</td>\n",
       "      <td>1.209</td>\n",
       "      <td>0.568</td>\n",
       "    </tr>\n",
       "    <tr>\n",
       "      <th>1</th>\n",
       "      <td>1.067</td>\n",
       "      <td>0.623</td>\n",
       "      <td>0.992</td>\n",
       "      <td>0.654</td>\n",
       "    </tr>\n",
       "    <tr>\n",
       "      <th>2</th>\n",
       "      <td>0.921</td>\n",
       "      <td>0.675</td>\n",
       "      <td>0.932</td>\n",
       "      <td>0.679</td>\n",
       "    </tr>\n",
       "    <tr>\n",
       "      <th>3</th>\n",
       "      <td>0.831</td>\n",
       "      <td>0.708</td>\n",
       "      <td>0.905</td>\n",
       "      <td>0.684</td>\n",
       "    </tr>\n",
       "    <tr>\n",
       "      <th>4</th>\n",
       "      <td>0.755</td>\n",
       "      <td>0.735</td>\n",
       "      <td>0.892</td>\n",
       "      <td>0.695</td>\n",
       "    </tr>\n",
       "  </tbody>\n",
       "</table>\n",
       "</div>\n",
       "      <button class=\"colab-df-convert\" onclick=\"convertToInteractive('df-ce434b07-b262-4704-bb61-ae1d725e42ff')\"\n",
       "              title=\"Convert this dataframe to an interactive table.\"\n",
       "              style=\"display:none;\">\n",
       "        \n",
       "  <svg xmlns=\"http://www.w3.org/2000/svg\" height=\"24px\"viewBox=\"0 0 24 24\"\n",
       "       width=\"24px\">\n",
       "    <path d=\"M0 0h24v24H0V0z\" fill=\"none\"/>\n",
       "    <path d=\"M18.56 5.44l.94 2.06.94-2.06 2.06-.94-2.06-.94-.94-2.06-.94 2.06-2.06.94zm-11 1L8.5 8.5l.94-2.06 2.06-.94-2.06-.94L8.5 2.5l-.94 2.06-2.06.94zm10 10l.94 2.06.94-2.06 2.06-.94-2.06-.94-.94-2.06-.94 2.06-2.06.94z\"/><path d=\"M17.41 7.96l-1.37-1.37c-.4-.4-.92-.59-1.43-.59-.52 0-1.04.2-1.43.59L10.3 9.45l-7.72 7.72c-.78.78-.78 2.05 0 2.83L4 21.41c.39.39.9.59 1.41.59.51 0 1.02-.2 1.41-.59l7.78-7.78 2.81-2.81c.8-.78.8-2.07 0-2.86zM5.41 20L4 18.59l7.72-7.72 1.47 1.35L5.41 20z\"/>\n",
       "  </svg>\n",
       "      </button>\n",
       "      \n",
       "  <style>\n",
       "    .colab-df-container {\n",
       "      display:flex;\n",
       "      flex-wrap:wrap;\n",
       "      gap: 12px;\n",
       "    }\n",
       "\n",
       "    .colab-df-convert {\n",
       "      background-color: #E8F0FE;\n",
       "      border: none;\n",
       "      border-radius: 50%;\n",
       "      cursor: pointer;\n",
       "      display: none;\n",
       "      fill: #1967D2;\n",
       "      height: 32px;\n",
       "      padding: 0 0 0 0;\n",
       "      width: 32px;\n",
       "    }\n",
       "\n",
       "    .colab-df-convert:hover {\n",
       "      background-color: #E2EBFA;\n",
       "      box-shadow: 0px 1px 2px rgba(60, 64, 67, 0.3), 0px 1px 3px 1px rgba(60, 64, 67, 0.15);\n",
       "      fill: #174EA6;\n",
       "    }\n",
       "\n",
       "    [theme=dark] .colab-df-convert {\n",
       "      background-color: #3B4455;\n",
       "      fill: #D2E3FC;\n",
       "    }\n",
       "\n",
       "    [theme=dark] .colab-df-convert:hover {\n",
       "      background-color: #434B5C;\n",
       "      box-shadow: 0px 1px 3px 1px rgba(0, 0, 0, 0.15);\n",
       "      filter: drop-shadow(0px 1px 2px rgba(0, 0, 0, 0.3));\n",
       "      fill: #FFFFFF;\n",
       "    }\n",
       "  </style>\n",
       "\n",
       "      <script>\n",
       "        const buttonEl =\n",
       "          document.querySelector('#df-ce434b07-b262-4704-bb61-ae1d725e42ff button.colab-df-convert');\n",
       "        buttonEl.style.display =\n",
       "          google.colab.kernel.accessAllowed ? 'block' : 'none';\n",
       "\n",
       "        async function convertToInteractive(key) {\n",
       "          const element = document.querySelector('#df-ce434b07-b262-4704-bb61-ae1d725e42ff');\n",
       "          const dataTable =\n",
       "            await google.colab.kernel.invokeFunction('convertToInteractive',\n",
       "                                                     [key], {});\n",
       "          if (!dataTable) return;\n",
       "\n",
       "          const docLinkHtml = 'Like what you see? Visit the ' +\n",
       "            '<a target=\"_blank\" href=https://colab.research.google.com/notebooks/data_table.ipynb>data table notebook</a>'\n",
       "            + ' to learn more about interactive tables.';\n",
       "          element.innerHTML = '';\n",
       "          dataTable['output_type'] = 'display_data';\n",
       "          await google.colab.output.renderOutput(dataTable, element);\n",
       "          const docLink = document.createElement('div');\n",
       "          docLink.innerHTML = docLinkHtml;\n",
       "          element.appendChild(docLink);\n",
       "        }\n",
       "      </script>\n",
       "    </div>\n",
       "  </div>\n",
       "  "
      ],
      "text/plain": [
       "   loss  accuracy  val_loss  val_accuracy\n",
       "0 1.422     0.485     1.209         0.568\n",
       "1 1.067     0.623     0.992         0.654\n",
       "2 0.921     0.675     0.932         0.679\n",
       "3 0.831     0.708     0.905         0.684\n",
       "4 0.755     0.735     0.892         0.695"
      ]
     },
     "execution_count": 37,
     "metadata": {},
     "output_type": "execute_result"
    }
   ],
   "source": [
    "summary = pd.DataFrame(model.history.history)\n",
    "summary.head()"
   ]
  },
  {
   "cell_type": "code",
   "execution_count": 38,
   "metadata": {
    "colab": {
     "base_uri": "https://localhost:8080/",
     "height": 265
    },
    "executionInfo": {
     "elapsed": 606,
     "status": "ok",
     "timestamp": 1649323998308,
     "user": {
      "displayName": "Steve Wallace",
      "userId": "06741533186265949524"
     },
     "user_tz": -180
    },
    "id": "CzTWS4i_dua7",
    "outputId": "d2e39961-c1f3-4097-d3a0-2d4e28ce9537"
   },
   "outputs": [
    {
     "data": {
      "image/png": "[encoded data removed]",
      "text/plain": [
       "<Figure size 432x288 with 1 Axes>"
      ]
     },
     "metadata": {
      "needs_background": "light"
     },
     "output_type": "display_data"
    }
   ],
   "source": [
    "summary[[\"loss\", \"val_loss\"]].plot();"
   ]
  },
  {
   "cell_type": "code",
   "execution_count": 39,
   "metadata": {
    "colab": {
     "base_uri": "https://localhost:8080/",
     "height": 265
    },
    "executionInfo": {
     "elapsed": 598,
     "status": "ok",
     "timestamp": 1649323998888,
     "user": {
      "displayName": "Steve Wallace",
      "userId": "06741533186265949524"
     },
     "user_tz": -180
    },
    "id": "uE5ZiRK8dua7",
    "outputId": "d2325c2b-962e-44ee-e33a-2e6b1f2367a8"
   },
   "outputs": [
    {
     "data": {
      "image/png": "[encoded data removed]",
      "text/plain": [
       "<Figure size 432x288 with 1 Axes>"
      ]
     },
     "metadata": {
      "needs_background": "light"
     },
     "output_type": "display_data"
    }
   ],
   "source": [
    "summary[[\"accuracy\", \"val_accuracy\"]].plot();"
   ]
  },
  {
   "cell_type": "markdown",
   "metadata": {
    "id": "eluWMecodua7"
   },
   "source": [
    "# Evaluation on Test Data"
   ]
  },
  {
   "cell_type": "code",
   "execution_count": 40,
   "metadata": {
    "executionInfo": {
     "elapsed": 22,
     "status": "ok",
     "timestamp": 1649323998889,
     "user": {
      "displayName": "Steve Wallace",
      "userId": "06741533186265949524"
     },
     "user_tz": -180
    },
    "id": "3qZywTaf4Nay"
   },
   "outputs": [],
   "source": [
    "from sklearn.metrics import classification_report, confusion_matrix"
   ]
  },
  {
   "cell_type": "code",
   "execution_count": 41,
   "metadata": {
    "colab": {
     "base_uri": "https://localhost:8080/"
    },
    "executionInfo": {
     "elapsed": 2501,
     "status": "ok",
     "timestamp": 1649324001370,
     "user": {
      "displayName": "Steve Wallace",
      "userId": "06741533186265949524"
     },
     "user_tz": -180
    },
    "id": "1naFYlgT35-S",
    "outputId": "d53833a3-0aab-4ab5-f130-7600fd6ee09b"
   },
   "outputs": [
    {
     "name": "stdout",
     "output_type": "stream",
     "text": [
      "313/313 [==============================] - 1s 5ms/step - loss: 0.8716 - accuracy: 0.7018\n"
     ]
    },
    {
     "data": {
      "text/plain": [
       "[0.8715783357620239, 0.7017999887466431]"
      ]
     },
     "execution_count": 41,
     "metadata": {},
     "output_type": "execute_result"
    }
   ],
   "source": [
    "model.evaluate(X_test, Y_test)"
   ]
  },
  {
   "cell_type": "code",
   "execution_count": 42,
   "metadata": {
    "colab": {
     "base_uri": "https://localhost:8080/"
    },
    "executionInfo": {
     "elapsed": 1739,
     "status": "ok",
     "timestamp": 1649324003102,
     "user": {
      "displayName": "Steve Wallace",
      "userId": "06741533186265949524"
     },
     "user_tz": -180
    },
    "id": "3DyaGeFU46Hv",
    "outputId": "a0de65a7-1009-409e-e386-7e4f49810af4"
   },
   "outputs": [
    {
     "name": "stdout",
     "output_type": "stream",
     "text": [
      "Test loss: 0.8715783357620239\n",
      "Test accuracy: 0.7017999887466431\n"
     ]
    }
   ],
   "source": [
    "score = model.evaluate(X_test, Y_test, verbose=0)\n",
    "print('Test loss:', score[0])\n",
    "print('Test accuracy:', score[1])"
   ]
  },
  {
   "cell_type": "code",
   "execution_count": 43,
   "metadata": {
    "executionInfo": {
     "elapsed": 996,
     "status": "ok",
     "timestamp": 1649324004095,
     "user": {
      "displayName": "Steve Wallace",
      "userId": "06741533186265949524"
     },
     "user_tz": -180
    },
    "id": "IOAxLbRQ4cMe"
   },
   "outputs": [],
   "source": [
    "pred_prob = model.predict(X_test)"
   ]
  },
  {
   "cell_type": "code",
   "execution_count": 44,
   "metadata": {
    "executionInfo": {
     "elapsed": 23,
     "status": "ok",
     "timestamp": 1649324004095,
     "user": {
      "displayName": "Steve Wallace",
      "userId": "06741533186265949524"
     },
     "user_tz": -180
    },
    "id": "P54bs5fIQ1EU"
   },
   "outputs": [],
   "source": [
    "y_pred = np.argmax(pred_prob, axis=1)"
   ]
  },
  {
   "cell_type": "code",
   "execution_count": 45,
   "metadata": {
    "colab": {
     "base_uri": "https://localhost:8080/"
    },
    "executionInfo": {
     "elapsed": 22,
     "status": "ok",
     "timestamp": 1649324004096,
     "user": {
      "displayName": "Steve Wallace",
      "userId": "06741533186265949524"
     },
     "user_tz": -180
    },
    "id": "HzB8GiCOMr2l",
    "outputId": "85422c62-f303-4942-a5eb-215eb0fe7cc1"
   },
   "outputs": [
    {
     "data": {
      "text/plain": [
       "array([3, 8, 8, ..., 5, 1, 7])"
      ]
     },
     "execution_count": 45,
     "metadata": {},
     "output_type": "execute_result"
    }
   ],
   "source": [
    "y_pred"
   ]
  },
  {
   "cell_type": "code",
   "execution_count": 46,
   "metadata": {
    "colab": {
     "base_uri": "https://localhost:8080/"
    },
    "executionInfo": {
     "elapsed": 16,
     "status": "ok",
     "timestamp": 1649324004096,
     "user": {
      "displayName": "Steve Wallace",
      "userId": "06741533186265949524"
     },
     "user_tz": -180
    },
    "id": "HUl6w6Jf423N",
    "outputId": "65d0f2a0-f508-4927-e392-af7546292048"
   },
   "outputs": [
    {
     "name": "stdout",
     "output_type": "stream",
     "text": [
      "              precision    recall  f1-score   support\n",
      "\n",
      "           0       0.71      0.78      0.75      1000\n",
      "           1       0.79      0.80      0.80      1000\n",
      "           2       0.70      0.47      0.56      1000\n",
      "           3       0.49      0.54      0.51      1000\n",
      "           4       0.61      0.71      0.66      1000\n",
      "           5       0.58      0.65      0.61      1000\n",
      "           6       0.86      0.71      0.78      1000\n",
      "           7       0.80      0.75      0.77      1000\n",
      "           8       0.82      0.79      0.81      1000\n",
      "           9       0.75      0.80      0.78      1000\n",
      "\n",
      "    accuracy                           0.70     10000\n",
      "   macro avg       0.71      0.70      0.70     10000\n",
      "weighted avg       0.71      0.70      0.70     10000\n",
      "\n"
     ]
    }
   ],
   "source": [
    "print(classification_report(y_test, y_pred))"
   ]
  },
  {
   "cell_type": "code",
   "execution_count": 47,
   "metadata": {
    "colab": {
     "base_uri": "https://localhost:8080/"
    },
    "executionInfo": {
     "elapsed": 13,
     "status": "ok",
     "timestamp": 1649324004097,
     "user": {
      "displayName": "Steve Wallace",
      "userId": "06741533186265949524"
     },
     "user_tz": -180
    },
    "id": "weQW_anSNmj8",
    "outputId": "e82df662-d6a0-4b50-c8e8-a1ec73df29e4",
    "scrolled": true
   },
   "outputs": [
    {
     "name": "stdout",
     "output_type": "stream",
     "text": [
      "[[783  22  27  28  17   9   4  12  51  47]\n",
      " [ 22 803   8  17   4   4   6   1  21 114]\n",
      " [ 85   8 470  91 146  97  39  34  16  14]\n",
      " [ 29  20  34 541  90 191  28  27  18  22]\n",
      " [ 23   4  44  65 715  51  27  57  11   3]\n",
      " [ 18   5  27 188  47 653   8  35  11   8]\n",
      " [  6  14  33  97  81  35 715   3   9   7]\n",
      " [ 16   7  20  40  68  82   1 747   7  12]\n",
      " [ 81  46   5  21   9   6   1   4 787  40]\n",
      " [ 35  88   5  19   2   6   3  15  23 804]]\n"
     ]
    }
   ],
   "source": [
    "print(confusion_matrix(y_test, y_pred))"
   ]
  },
  {
   "cell_type": "code",
   "execution_count": 48,
   "metadata": {
    "colab": {
     "base_uri": "https://localhost:8080/",
     "height": 610
    },
    "executionInfo": {
     "elapsed": 1331,
     "status": "ok",
     "timestamp": 1649324005418,
     "user": {
      "displayName": "Steve Wallace",
      "userId": "06741533186265949524"
     },
     "user_tz": -180
    },
    "id": "uqXVb6zGWgzW",
    "outputId": "0ab0f964-44e8-4e8c-9265-de5d1e9049fa"
   },
   "outputs": [
    {
     "data": {
      "text/plain": [
       "<matplotlib.axes._subplots.AxesSubplot at 0x7f1eb40cd9d0>"
      ]
     },
     "execution_count": 48,
     "metadata": {},
     "output_type": "execute_result"
    },
    {
     "data": {
      "image/png": "[encoded data removed]",
      "text/plain": [
       "<Figure size 1080x720 with 2 Axes>"
      ]
     },
     "metadata": {
      "needs_background": "light"
     },
     "output_type": "display_data"
    }
   ],
   "source": [
    "plt.figure(figsize=(15,10))\n",
    "sns.heatmap(confusion_matrix(y_test, y_pred), annot=True, cmap=\"Blues\", linewidths=.5, linecolor='black', fmt='g', annot_kws = {\"size\": 14})"
   ]
  },
  {
   "cell_type": "markdown",
   "metadata": {
    "id": "3rj3ou7Qdua9"
   },
   "source": [
    "# Modelling-2"
   ]
  },
  {
   "cell_type": "code",
   "execution_count": 49,
   "metadata": {
    "executionInfo": {
     "elapsed": 31,
     "status": "ok",
     "timestamp": 1649324005419,
     "user": {
      "displayName": "Steve Wallace",
      "userId": "06741533186265949524"
     },
     "user_tz": -180
    },
    "id": "c4nSjrxc28pa"
   },
   "outputs": [],
   "source": [
    "model= Sequential()\n",
    "\n",
    "model.add(Conv2D(filters=32,kernel_size=(3,3),activation='relu',input_shape=(32,32,3), padding='same'))\n",
    "        \n",
    "model.add(Conv2D(filters=64,kernel_size=(3,3),activation='relu', padding='same'))\n",
    "model.add(MaxPool2D((2,2)))\n",
    "model.add(Dropout(0.4))\n",
    "    \n",
    "model.add(Conv2D(filters=128,kernel_size=(3,3),activation='relu'))\n",
    "model.add(MaxPool2D((2,2)))\n",
    "model.add(Dropout(0.4))\n",
    "        \n",
    "model.add(Flatten())\n",
    "\n",
    "model.add(Dense(128, activation='relu'))\n",
    "model.add(Dense(64, activation='relu'))\n",
    "model.add(Dense(10, activation='softmax'))\n",
    "\n",
    "model.compile(loss='categorical_crossentropy',\n",
    "              optimizer='adam',\n",
    "              metrics=['accuracy'])"
   ]
  },
  {
   "cell_type": "code",
   "execution_count": 50,
   "metadata": {
    "colab": {
     "base_uri": "https://localhost:8080/"
    },
    "executionInfo": {
     "elapsed": 373,
     "status": "ok",
     "timestamp": 1649324005762,
     "user": {
      "displayName": "Steve Wallace",
      "userId": "06741533186265949524"
     },
     "user_tz": -180
    },
    "id": "Q7V-q5WV5vly",
    "outputId": "66da55c1-60a9-4b03-f9e3-2a613ebca53c"
   },
   "outputs": [
    {
     "name": "stdout",
     "output_type": "stream",
     "text": [
      "Model: \"sequential_1\"\n",
      "_________________________________________________________________\n",
      " Layer (type)                Output Shape              Param #   \n",
      "=================================================================\n",
      " conv2d_2 (Conv2D)           (None, 32, 32, 32)        896       \n",
      "                                                                 \n",
      " conv2d_3 (Conv2D)           (None, 32, 32, 64)        18496     \n",
      "                                                                 \n",
      " max_pooling2d_2 (MaxPooling  (None, 16, 16, 64)       0         \n",
      " 2D)                                                             \n",
      "                                                                 \n",
      " dropout (Dropout)           (None, 16, 16, 64)        0         \n",
      "                                                                 \n",
      " conv2d_4 (Conv2D)           (None, 14, 14, 128)       73856     \n",
      "                                                                 \n",
      " max_pooling2d_3 (MaxPooling  (None, 7, 7, 128)        0         \n",
      " 2D)                                                             \n",
      "                                                                 \n",
      " dropout_1 (Dropout)         (None, 7, 7, 128)         0         \n",
      "                                                                 \n",
      " flatten_1 (Flatten)         (None, 6272)              0         \n",
      "                                                                 \n",
      " dense_3 (Dense)             (None, 128)               802944    \n",
      "                                                                 \n",
      " dense_4 (Dense)             (None, 64)                8256      \n",
      "                                                                 \n",
      " dense_5 (Dense)             (None, 10)                650       \n",
      "                                                                 \n",
      "=================================================================\n",
      "Total params: 905,098\n",
      "Trainable params: 905,098\n",
      "Non-trainable params: 0\n",
      "_________________________________________________________________\n"
     ]
    }
   ],
   "source": [
    "model.summary()"
   ]
  },
  {
   "cell_type": "code",
   "execution_count": 51,
   "metadata": {
    "colab": {
     "base_uri": "https://localhost:8080/"
    },
    "executionInfo": {
     "elapsed": 286360,
     "status": "ok",
     "timestamp": 1649324292114,
     "user": {
      "displayName": "Steve Wallace",
      "userId": "06741533186265949524"
     },
     "user_tz": -180
    },
    "id": "tgKtp0Nf5p_g",
    "outputId": "79b37dbc-5422-4127-e67f-07a2650dcf75",
    "scrolled": true
   },
   "outputs": [
    {
     "name": "stdout",
     "output_type": "stream",
     "text": [
      "Epoch 1/50\n",
      "1563/1563 [==============================] - 22s 13ms/step - loss: 1.4450 - accuracy: 0.4754 - val_loss: 1.1107 - val_accuracy: 0.6180\n",
      "Epoch 2/50\n",
      "1563/1563 [==============================] - 20s 13ms/step - loss: 1.0365 - accuracy: 0.6333 - val_loss: 0.9150 - val_accuracy: 0.6852\n",
      "Epoch 3/50\n",
      "1563/1563 [==============================] - 21s 13ms/step - loss: 0.9024 - accuracy: 0.6829 - val_loss: 0.8365 - val_accuracy: 0.7086\n",
      "Epoch 4/50\n",
      "1563/1563 [==============================] - 20s 13ms/step - loss: 0.8216 - accuracy: 0.7137 - val_loss: 0.8032 - val_accuracy: 0.7207\n",
      "Epoch 5/50\n",
      "1563/1563 [==============================] - 21s 13ms/step - loss: 0.7613 - accuracy: 0.7330 - val_loss: 0.7961 - val_accuracy: 0.7273\n",
      "Epoch 6/50\n",
      "1563/1563 [==============================] - 20s 13ms/step - loss: 0.7220 - accuracy: 0.7466 - val_loss: 0.7627 - val_accuracy: 0.7386\n",
      "Epoch 7/50\n",
      "1563/1563 [==============================] - 20s 13ms/step - loss: 0.6846 - accuracy: 0.7588 - val_loss: 0.7454 - val_accuracy: 0.7420\n",
      "Epoch 8/50\n",
      "1563/1563 [==============================] - 21s 13ms/step - loss: 0.6479 - accuracy: 0.7708 - val_loss: 0.7351 - val_accuracy: 0.7518\n",
      "Epoch 9/50\n",
      "1563/1563 [==============================] - 20s 13ms/step - loss: 0.6144 - accuracy: 0.7810 - val_loss: 0.6893 - val_accuracy: 0.7603\n",
      "Epoch 10/50\n",
      "1563/1563 [==============================] - 21s 13ms/step - loss: 0.5895 - accuracy: 0.7935 - val_loss: 0.6965 - val_accuracy: 0.7628\n",
      "Epoch 11/50\n",
      "1563/1563 [==============================] - 21s 14ms/step - loss: 0.5701 - accuracy: 0.7981 - val_loss: 0.7146 - val_accuracy: 0.7534\n",
      "Epoch 12/50\n",
      "1563/1563 [==============================] - 21s 13ms/step - loss: 0.5478 - accuracy: 0.8059 - val_loss: 0.6977 - val_accuracy: 0.7608\n",
      "Epoch 13/50\n",
      "1563/1563 [==============================] - 20s 13ms/step - loss: 0.5251 - accuracy: 0.8142 - val_loss: 0.7147 - val_accuracy: 0.7595\n",
      "Epoch 14/50\n",
      "1563/1563 [==============================] - 20s 13ms/step - loss: 0.5072 - accuracy: 0.8203 - val_loss: 0.7068 - val_accuracy: 0.7646\n"
     ]
    },
    {
     "data": {
      "text/plain": [
       "<keras.callbacks.History at 0x7f1eb2ceb950>"
      ]
     },
     "execution_count": 51,
     "metadata": {},
     "output_type": "execute_result"
    }
   ],
   "source": [
    "model.fit(X_train, Y_train, batch_size=32, epochs=50, validation_data=(X_test,Y_test), callbacks=[early_stop])"
   ]
  },
  {
   "cell_type": "code",
   "execution_count": 52,
   "metadata": {
    "colab": {
     "base_uri": "https://localhost:8080/",
     "height": 206
    },
    "executionInfo": {
     "elapsed": 38,
     "status": "ok",
     "timestamp": 1649324292115,
     "user": {
      "displayName": "Steve Wallace",
      "userId": "06741533186265949524"
     },
     "user_tz": -180
    },
    "id": "_hJ-ZSIVdubA",
    "outputId": "ce6b4e88-2440-47d8-9d54-9411755b8c1a"
   },
   "outputs": [
    {
     "data": {
      "text/html": [
       "\n",
       "  <div id=\"df-78407392-d468-4472-8c21-3922e8d5d2ac\">\n",
       "    <div class=\"colab-df-container\">\n",
       "      <div>\n",
       "<style scoped>\n",
       "    .dataframe tbody tr th:only-of-type {\n",
       "        vertical-align: middle;\n",
       "    }\n",
       "\n",
       "    .dataframe tbody tr th {\n",
       "        vertical-align: top;\n",
       "    }\n",
       "\n",
       "    .dataframe thead th {\n",
       "        text-align: right;\n",
       "    }\n",
       "</style>\n",
       "<table border=\"1\" class=\"dataframe\">\n",
       "  <thead>\n",
       "    <tr style=\"text-align: right;\">\n",
       "      <th></th>\n",
       "      <th>loss</th>\n",
       "      <th>accuracy</th>\n",
       "      <th>val_loss</th>\n",
       "      <th>val_accuracy</th>\n",
       "    </tr>\n",
       "  </thead>\n",
       "  <tbody>\n",
       "    <tr>\n",
       "      <th>0</th>\n",
       "      <td>1.445</td>\n",
       "      <td>0.475</td>\n",
       "      <td>1.111</td>\n",
       "      <td>0.618</td>\n",
       "    </tr>\n",
       "    <tr>\n",
       "      <th>1</th>\n",
       "      <td>1.037</td>\n",
       "      <td>0.633</td>\n",
       "      <td>0.915</td>\n",
       "      <td>0.685</td>\n",
       "    </tr>\n",
       "    <tr>\n",
       "      <th>2</th>\n",
       "      <td>0.902</td>\n",
       "      <td>0.683</td>\n",
       "      <td>0.836</td>\n",
       "      <td>0.709</td>\n",
       "    </tr>\n",
       "    <tr>\n",
       "      <th>3</th>\n",
       "      <td>0.822</td>\n",
       "      <td>0.714</td>\n",
       "      <td>0.803</td>\n",
       "      <td>0.721</td>\n",
       "    </tr>\n",
       "    <tr>\n",
       "      <th>4</th>\n",
       "      <td>0.761</td>\n",
       "      <td>0.733</td>\n",
       "      <td>0.796</td>\n",
       "      <td>0.727</td>\n",
       "    </tr>\n",
       "  </tbody>\n",
       "</table>\n",
       "</div>\n",
       "      <button class=\"colab-df-convert\" onclick=\"convertToInteractive('df-78407392-d468-4472-8c21-3922e8d5d2ac')\"\n",
       "              title=\"Convert this dataframe to an interactive table.\"\n",
       "              style=\"display:none;\">\n",
       "        \n",
       "  <svg xmlns=\"http://www.w3.org/2000/svg\" height=\"24px\"viewBox=\"0 0 24 24\"\n",
       "       width=\"24px\">\n",
       "    <path d=\"M0 0h24v24H0V0z\" fill=\"none\"/>\n",
       "    <path d=\"M18.56 5.44l.94 2.06.94-2.06 2.06-.94-2.06-.94-.94-2.06-.94 2.06-2.06.94zm-11 1L8.5 8.5l.94-2.06 2.06-.94-2.06-.94L8.5 2.5l-.94 2.06-2.06.94zm10 10l.94 2.06.94-2.06 2.06-.94-2.06-.94-.94-2.06-.94 2.06-2.06.94z\"/><path d=\"M17.41 7.96l-1.37-1.37c-.4-.4-.92-.59-1.43-.59-.52 0-1.04.2-1.43.59L10.3 9.45l-7.72 7.72c-.78.78-.78 2.05 0 2.83L4 21.41c.39.39.9.59 1.41.59.51 0 1.02-.2 1.41-.59l7.78-7.78 2.81-2.81c.8-.78.8-2.07 0-2.86zM5.41 20L4 18.59l7.72-7.72 1.47 1.35L5.41 20z\"/>\n",
       "  </svg>\n",
       "      </button>\n",
       "      \n",
       "  <style>\n",
       "    .colab-df-container {\n",
       "      display:flex;\n",
       "      flex-wrap:wrap;\n",
       "      gap: 12px;\n",
       "    }\n",
       "\n",
       "    .colab-df-convert {\n",
       "      background-color: #E8F0FE;\n",
       "      border: none;\n",
       "      border-radius: 50%;\n",
       "      cursor: pointer;\n",
       "      display: none;\n",
       "      fill: #1967D2;\n",
       "      height: 32px;\n",
       "      padding: 0 0 0 0;\n",
       "      width: 32px;\n",
       "    }\n",
       "\n",
       "    .colab-df-convert:hover {\n",
       "      background-color: #E2EBFA;\n",
       "      box-shadow: 0px 1px 2px rgba(60, 64, 67, 0.3), 0px 1px 3px 1px rgba(60, 64, 67, 0.15);\n",
       "      fill: #174EA6;\n",
       "    }\n",
       "\n",
       "    [theme=dark] .colab-df-convert {\n",
       "      background-color: #3B4455;\n",
       "      fill: #D2E3FC;\n",
       "    }\n",
       "\n",
       "    [theme=dark] .colab-df-convert:hover {\n",
       "      background-color: #434B5C;\n",
       "      box-shadow: 0px 1px 3px 1px rgba(0, 0, 0, 0.15);\n",
       "      filter: drop-shadow(0px 1px 2px rgba(0, 0, 0, 0.3));\n",
       "      fill: #FFFFFF;\n",
       "    }\n",
       "  </style>\n",
       "\n",
       "      <script>\n",
       "        const buttonEl =\n",
       "          document.querySelector('#df-78407392-d468-4472-8c21-3922e8d5d2ac button.colab-df-convert');\n",
       "        buttonEl.style.display =\n",
       "          google.colab.kernel.accessAllowed ? 'block' : 'none';\n",
       "\n",
       "        async function convertToInteractive(key) {\n",
       "          const element = document.querySelector('#df-78407392-d468-4472-8c21-3922e8d5d2ac');\n",
       "          const dataTable =\n",
       "            await google.colab.kernel.invokeFunction('convertToInteractive',\n",
       "                                                     [key], {});\n",
       "          if (!dataTable) return;\n",
       "\n",
       "          const docLinkHtml = 'Like what you see? Visit the ' +\n",
       "            '<a target=\"_blank\" href=https://colab.research.google.com/notebooks/data_table.ipynb>data table notebook</a>'\n",
       "            + ' to learn more about interactive tables.';\n",
       "          element.innerHTML = '';\n",
       "          dataTable['output_type'] = 'display_data';\n",
       "          await google.colab.output.renderOutput(dataTable, element);\n",
       "          const docLink = document.createElement('div');\n",
       "          docLink.innerHTML = docLinkHtml;\n",
       "          element.appendChild(docLink);\n",
       "        }\n",
       "      </script>\n",
       "    </div>\n",
       "  </div>\n",
       "  "
      ],
      "text/plain": [
       "   loss  accuracy  val_loss  val_accuracy\n",
       "0 1.445     0.475     1.111         0.618\n",
       "1 1.037     0.633     0.915         0.685\n",
       "2 0.902     0.683     0.836         0.709\n",
       "3 0.822     0.714     0.803         0.721\n",
       "4 0.761     0.733     0.796         0.727"
      ]
     },
     "execution_count": 52,
     "metadata": {},
     "output_type": "execute_result"
    }
   ],
   "source": [
    "summary = pd.DataFrame(model.history.history)\n",
    "summary.head()"
   ]
  },
  {
   "cell_type": "code",
   "execution_count": 53,
   "metadata": {
    "colab": {
     "base_uri": "https://localhost:8080/",
     "height": 265
    },
    "executionInfo": {
     "elapsed": 37344,
     "status": "ok",
     "timestamp": 1649324329423,
     "user": {
      "displayName": "Steve Wallace",
      "userId": "06741533186265949524"
     },
     "user_tz": -180
    },
    "id": "PLt8QUPZdubB",
    "outputId": "72ef3072-0e0e-4c60-e665-8c85adc06f51"
   },
   "outputs": [
    {
     "data": {
      "image/png": "[encoded data removed]",
      "text/plain": [
       "<Figure size 432x288 with 1 Axes>"
      ]
     },
     "metadata": {
      "needs_background": "light"
     },
     "output_type": "display_data"
    }
   ],
   "source": [
    "summary[[\"loss\", \"val_loss\"]].plot();"
   ]
  },
  {
   "cell_type": "code",
   "execution_count": 54,
   "metadata": {
    "colab": {
     "base_uri": "https://localhost:8080/",
     "height": 265
    },
    "executionInfo": {
     "elapsed": 715,
     "status": "ok",
     "timestamp": 1649324330135,
     "user": {
      "displayName": "Steve Wallace",
      "userId": "06741533186265949524"
     },
     "user_tz": -180
    },
    "id": "UUsZOEipdubB",
    "outputId": "1d893b52-b556-46b4-a0ca-469a1f6ff5e3"
   },
   "outputs": [
    {
     "data": {
      "image/png": "[encoded data removed]",
      "text/plain": [
       "<Figure size 432x288 with 1 Axes>"
      ]
     },
     "metadata": {
      "needs_background": "light"
     },
     "output_type": "display_data"
    }
   ],
   "source": [
    "summary[[\"accuracy\", \"val_accuracy\"]].plot();"
   ]
  },
  {
   "cell_type": "markdown",
   "metadata": {
    "id": "dBBbY9pVdubB"
   },
   "source": [
    "# Evaluation on Test Data"
   ]
  },
  {
   "cell_type": "code",
   "execution_count": 55,
   "metadata": {
    "colab": {
     "base_uri": "https://localhost:8080/"
    },
    "executionInfo": {
     "elapsed": 2004,
     "status": "ok",
     "timestamp": 1649324332113,
     "user": {
      "displayName": "Steve Wallace",
      "userId": "06741533186265949524"
     },
     "user_tz": -180
    },
    "id": "ZMYLY3OUdubB",
    "outputId": "7ecabd0a-0406-4d63-ce1e-acc4c116bd2d"
   },
   "outputs": [
    {
     "name": "stdout",
     "output_type": "stream",
     "text": [
      "313/313 [==============================] - 2s 7ms/step - loss: 0.6893 - accuracy: 0.7603\n"
     ]
    },
    {
     "data": {
      "text/plain": [
       "[0.6892576217651367, 0.7602999806404114]"
      ]
     },
     "execution_count": 55,
     "metadata": {},
     "output_type": "execute_result"
    }
   ],
   "source": [
    "model.evaluate(X_test, Y_test)"
   ]
  },
  {
   "cell_type": "code",
   "execution_count": 56,
   "metadata": {
    "colab": {
     "base_uri": "https://localhost:8080/"
    },
    "executionInfo": {
     "elapsed": 2170,
     "status": "ok",
     "timestamp": 1649324334276,
     "user": {
      "displayName": "Steve Wallace",
      "userId": "06741533186265949524"
     },
     "user_tz": -180
    },
    "id": "aSRDPvxGdubC",
    "outputId": "d10183bb-3ffc-4eb5-cc7c-46cbdca10a0d"
   },
   "outputs": [
    {
     "name": "stdout",
     "output_type": "stream",
     "text": [
      "Test loss: 0.6892576217651367\n",
      "Test accuracy: 0.7602999806404114\n"
     ]
    }
   ],
   "source": [
    "score = model.evaluate(X_test, Y_test, verbose=0)\n",
    "print('Test loss:', score[0])\n",
    "print('Test accuracy:', score[1])"
   ]
  },
  {
   "cell_type": "code",
   "execution_count": 57,
   "metadata": {
    "executionInfo": {
     "elapsed": 1572,
     "status": "ok",
     "timestamp": 1649324335844,
     "user": {
      "displayName": "Steve Wallace",
      "userId": "06741533186265949524"
     },
     "user_tz": -180
    },
    "id": "pzy7vb0mdubC"
   },
   "outputs": [],
   "source": [
    "pred_prob = model.predict(X_test)"
   ]
  },
  {
   "cell_type": "code",
   "execution_count": 58,
   "metadata": {
    "executionInfo": {
     "elapsed": 14,
     "status": "ok",
     "timestamp": 1649324335844,
     "user": {
      "displayName": "Steve Wallace",
      "userId": "06741533186265949524"
     },
     "user_tz": -180
    },
    "id": "ikoQd-azdubC"
   },
   "outputs": [],
   "source": [
    "y_pred = np.argmax(pred_prob, axis=1)"
   ]
  },
  {
   "cell_type": "code",
   "execution_count": 59,
   "metadata": {
    "colab": {
     "base_uri": "https://localhost:8080/"
    },
    "executionInfo": {
     "elapsed": 14,
     "status": "ok",
     "timestamp": 1649324335845,
     "user": {
      "displayName": "Steve Wallace",
      "userId": "06741533186265949524"
     },
     "user_tz": -180
    },
    "id": "v4j-9fQ5dubC",
    "outputId": "b4e6f21f-baf4-4e51-be98-d95b81c5f7d5"
   },
   "outputs": [
    {
     "data": {
      "text/plain": [
       "array([3, 8, 8, ..., 5, 1, 7])"
      ]
     },
     "execution_count": 59,
     "metadata": {},
     "output_type": "execute_result"
    }
   ],
   "source": [
    "y_pred"
   ]
  },
  {
   "cell_type": "code",
   "execution_count": 60,
   "metadata": {
    "colab": {
     "base_uri": "https://localhost:8080/"
    },
    "executionInfo": {
     "elapsed": 12,
     "status": "ok",
     "timestamp": 1649324335845,
     "user": {
      "displayName": "Steve Wallace",
      "userId": "06741533186265949524"
     },
     "user_tz": -180
    },
    "id": "mRkfexZ6dubC",
    "outputId": "e60608f3-041c-4c0b-fe4c-f010ca823c04"
   },
   "outputs": [
    {
     "name": "stdout",
     "output_type": "stream",
     "text": [
      "              precision    recall  f1-score   support\n",
      "\n",
      "           0       0.79      0.78      0.78      1000\n",
      "           1       0.93      0.84      0.88      1000\n",
      "           2       0.66      0.68      0.67      1000\n",
      "           3       0.63      0.47      0.54      1000\n",
      "           4       0.75      0.68      0.71      1000\n",
      "           5       0.63      0.75      0.68      1000\n",
      "           6       0.78      0.84      0.81      1000\n",
      "           7       0.81      0.81      0.81      1000\n",
      "           8       0.81      0.90      0.85      1000\n",
      "           9       0.80      0.87      0.84      1000\n",
      "\n",
      "    accuracy                           0.76     10000\n",
      "   macro avg       0.76      0.76      0.76     10000\n",
      "weighted avg       0.76      0.76      0.76     10000\n",
      "\n"
     ]
    }
   ],
   "source": [
    "print(classification_report(y_test, y_pred))"
   ]
  },
  {
   "cell_type": "code",
   "execution_count": 61,
   "metadata": {
    "colab": {
     "base_uri": "https://localhost:8080/",
     "height": 609
    },
    "executionInfo": {
     "elapsed": 1150,
     "status": "ok",
     "timestamp": 1649324336987,
     "user": {
      "displayName": "Steve Wallace",
      "userId": "06741533186265949524"
     },
     "user_tz": -180
    },
    "id": "SVGLO8ve-m9H",
    "outputId": "3e3e064e-2552-424e-c8f3-3c1a236f77cf"
   },
   "outputs": [
    {
     "data": {
      "text/plain": [
       "<matplotlib.axes._subplots.AxesSubplot at 0x7f1eb2a1c1d0>"
      ]
     },
     "execution_count": 61,
     "metadata": {},
     "output_type": "execute_result"
    },
    {
     "data": {
      "image/png": "[encoded data removed]",
      "text/plain": [
       "<Figure size 1080x720 with 2 Axes>"
      ]
     },
     "metadata": {
      "needs_background": "light"
     },
     "output_type": "display_data"
    }
   ],
   "source": [
    "plt.figure(figsize=(15,10))\n",
    "sns.heatmap(confusion_matrix(y_test, y_pred), annot=True, cmap=\"Blues\", linewidths=.5, linecolor='black', fmt='g', annot_kws = {\"size\": 14})"
   ]
  },
  {
   "cell_type": "markdown",
   "metadata": {
    "id": "CbTHFH4fdubD"
   },
   "source": [
    "# Modelling-3"
   ]
  },
  {
   "cell_type": "code",
   "execution_count": 62,
   "metadata": {
    "executionInfo": {
     "elapsed": 21,
     "status": "ok",
     "timestamp": 1649324336988,
     "user": {
      "displayName": "Steve Wallace",
      "userId": "06741533186265949524"
     },
     "user_tz": -180
    },
    "id": "ygzLv8n_x3Xr"
   },
   "outputs": [],
   "source": [
    "from tensorflow.keras.layers import BatchNormalization"
   ]
  },
  {
   "cell_type": "markdown",
   "metadata": {},
   "source": [
    "**BatchNormalization**\n",
    "\n",
    "- Layer that normalizes its inputs.\n",
    "- Batch normalization applies a transformation that maintains the mean output close to 0 and the output standard deviation close to 1.\n",
    "    - Technique for training very deep neural networks.\n",
    "    - Standardizes the inputs to a layer for each mini-batch.\n",
    "    - Stabilizes the learning process,\n",
    "    - Reduces the number of training epochs.\n",
    "![BN1.PNG](https://miro.medium.com/max/709/0*2qZOVh96GZ-a_XdS.png)\n",
    "![BN2.PNG](https://cesarlaurent.files.wordpress.com/2015/04/bn.png)\n",
    "![BN3.PNG](https://3.bp.blogspot.com/-ogeLSVo_Tek/WNPS4Glmd4I/AAAAAAAAKBo/bfp-KUSsFmQGolE0uNEeWFzDXA8IPU75wCLcB/s1600/Screenshot%2Bfrom%2B2017-03-23%2B21-50-33.png)"
   ]
  },
  {
   "cell_type": "code",
   "execution_count": 63,
   "metadata": {
    "executionInfo": {
     "elapsed": 543,
     "status": "ok",
     "timestamp": 1649324337511,
     "user": {
      "displayName": "Steve Wallace",
      "userId": "06741533186265949524"
     },
     "user_tz": -180
    },
    "id": "JX_2Dk32x3Xr"
   },
   "outputs": [],
   "source": [
    "model = Sequential()\n",
    "\n",
    "model.add(Conv2D(32, (3,3), padding='same', activation='relu', input_shape=(32,32,3)))\n",
    "model.add(BatchNormalization())\n",
    "model.add(Conv2D(32, (3,3), padding='same', activation='relu'))\n",
    "model.add(BatchNormalization())\n",
    "model.add(MaxPool2D(pool_size=(2,2)))\n",
    "model.add(Dropout(0.5))\n",
    "\n",
    "model.add(Conv2D(64, (3,3), padding='same', activation='relu'))\n",
    "model.add(BatchNormalization())\n",
    "model.add(Conv2D(64, (3,3), padding='same', activation='relu'))\n",
    "model.add(BatchNormalization())\n",
    "model.add(MaxPool2D(pool_size=(2,2)))\n",
    "model.add(Dropout(0.5))\n",
    "\n",
    "model.add(Conv2D(128, (3,3), padding='same', activation='relu'))\n",
    "model.add(BatchNormalization())\n",
    "model.add(Conv2D(128, (3,3), padding='same', activation='relu'))\n",
    "model.add(BatchNormalization())\n",
    "model.add(MaxPool2D(pool_size=(2,2)))\n",
    "model.add(Dropout(0.5))\n",
    "\n",
    "model.add(Conv2D(256, (3,3), padding='same', activation='relu'))\n",
    "model.add(BatchNormalization())\n",
    "model.add(Conv2D(256, (3,3), padding='same', activation='relu'))\n",
    "model.add(BatchNormalization())\n",
    "model.add(MaxPool2D(pool_size=(2,2)))\n",
    "model.add(Dropout(0.5))\n",
    "\n",
    "\n",
    "model.add(Flatten())\n",
    "\n",
    "model.add(Dense(128, activation='relu'))\n",
    "model.add(BatchNormalization())\n",
    "model.add(Dropout(0.5))\n",
    "model.add(Dense(64, activation='relu'))\n",
    "model.add(BatchNormalization())\n",
    "model.add(Dropout(0.5))\n",
    "model.add(Dense(10, activation='softmax'))\n",
    "\n",
    "model.compile(loss='categorical_crossentropy',\n",
    "              optimizer='adam',\n",
    "              metrics=['accuracy'])"
   ]
  },
  {
   "cell_type": "code",
   "execution_count": 64,
   "metadata": {
    "colab": {
     "base_uri": "https://localhost:8080/"
    },
    "executionInfo": {
     "elapsed": 55,
     "status": "ok",
     "timestamp": 1649324337512,
     "user": {
      "displayName": "Steve Wallace",
      "userId": "06741533186265949524"
     },
     "user_tz": -180
    },
    "id": "U0I2M75YdubE",
    "outputId": "046842ce-fc08-4910-8e8d-92d0e7528392"
   },
   "outputs": [
    {
     "name": "stdout",
     "output_type": "stream",
     "text": [
      "Model: \"sequential_2\"\n",
      "_________________________________________________________________\n",
      " Layer (type)                Output Shape              Param #   \n",
      "=================================================================\n",
      " conv2d_5 (Conv2D)           (None, 32, 32, 32)        896       \n",
      "                                                                 \n",
      " batch_normalization (BatchN  (None, 32, 32, 32)       128       \n",
      " ormalization)                                                   \n",
      "                                                                 \n",
      " conv2d_6 (Conv2D)           (None, 32, 32, 32)        9248      \n",
      "                                                                 \n",
      " batch_normalization_1 (Batc  (None, 32, 32, 32)       128       \n",
      " hNormalization)                                                 \n",
      "                                                                 \n",
      " max_pooling2d_4 (MaxPooling  (None, 16, 16, 32)       0         \n",
      " 2D)                                                             \n",
      "                                                                 \n",
      " dropout_2 (Dropout)         (None, 16, 16, 32)        0         \n",
      "                                                                 \n",
      " conv2d_7 (Conv2D)           (None, 16, 16, 64)        18496     \n",
      "                                                                 \n",
      " batch_normalization_2 (Batc  (None, 16, 16, 64)       256       \n",
      " hNormalization)                                                 \n",
      "                                                                 \n",
      " conv2d_8 (Conv2D)           (None, 16, 16, 64)        36928     \n",
      "                                                                 \n",
      " batch_normalization_3 (Batc  (None, 16, 16, 64)       256       \n",
      " hNormalization)                                                 \n",
      "                                                                 \n",
      " max_pooling2d_5 (MaxPooling  (None, 8, 8, 64)         0         \n",
      " 2D)                                                             \n",
      "                                                                 \n",
      " dropout_3 (Dropout)         (None, 8, 8, 64)          0         \n",
      "                                                                 \n",
      " conv2d_9 (Conv2D)           (None, 8, 8, 128)         73856     \n",
      "                                                                 \n",
      " batch_normalization_4 (Batc  (None, 8, 8, 128)        512       \n",
      " hNormalization)                                                 \n",
      "                                                                 \n",
      " conv2d_10 (Conv2D)          (None, 8, 8, 128)         147584    \n",
      "                                                                 \n",
      " batch_normalization_5 (Batc  (None, 8, 8, 128)        512       \n",
      " hNormalization)                                                 \n",
      "                                                                 \n",
      " max_pooling2d_6 (MaxPooling  (None, 4, 4, 128)        0         \n",
      " 2D)                                                             \n",
      "                                                                 \n",
      " dropout_4 (Dropout)         (None, 4, 4, 128)         0         \n",
      "                                                                 \n",
      " conv2d_11 (Conv2D)          (None, 4, 4, 256)         295168    \n",
      "                                                                 \n",
      " batch_normalization_6 (Batc  (None, 4, 4, 256)        1024      \n",
      " hNormalization)                                                 \n",
      "                                                                 \n",
      " conv2d_12 (Conv2D)          (None, 4, 4, 256)         590080    \n",
      "                                                                 \n",
      " batch_normalization_7 (Batc  (None, 4, 4, 256)        1024      \n",
      " hNormalization)                                                 \n",
      "                                                                 \n",
      " max_pooling2d_7 (MaxPooling  (None, 2, 2, 256)        0         \n",
      " 2D)                                                             \n",
      "                                                                 \n",
      " dropout_5 (Dropout)         (None, 2, 2, 256)         0         \n",
      "                                                                 \n",
      " flatten_2 (Flatten)         (None, 1024)              0         \n",
      "                                                                 \n",
      " dense_6 (Dense)             (None, 128)               131200    \n",
      "                                                                 \n",
      " batch_normalization_8 (Batc  (None, 128)              512       \n",
      " hNormalization)                                                 \n",
      "                                                                 \n",
      " dropout_6 (Dropout)         (None, 128)               0         \n",
      "                                                                 \n",
      " dense_7 (Dense)             (None, 64)                8256      \n",
      "                                                                 \n",
      " batch_normalization_9 (Batc  (None, 64)               256       \n",
      " hNormalization)                                                 \n",
      "                                                                 \n",
      " dropout_7 (Dropout)         (None, 64)                0         \n",
      "                                                                 \n",
      " dense_8 (Dense)             (None, 10)                650       \n",
      "                                                                 \n",
      "=================================================================\n",
      "Total params: 1,316,970\n",
      "Trainable params: 1,314,666\n",
      "Non-trainable params: 2,304\n",
      "_________________________________________________________________\n"
     ]
    }
   ],
   "source": [
    "model.summary()"
   ]
  },
  {
   "cell_type": "code",
   "execution_count": 65,
   "metadata": {
    "colab": {
     "base_uri": "https://localhost:8080/"
    },
    "executionInfo": {
     "elapsed": 1249999,
     "status": "ok",
     "timestamp": 1649325587500,
     "user": {
      "displayName": "Steve Wallace",
      "userId": "06741533186265949524"
     },
     "user_tz": -180
    },
    "id": "R82cBKL_x3Xt",
    "outputId": "841ca58e-9d02-473f-87e8-5c793302b293",
    "scrolled": true
   },
   "outputs": [
    {
     "name": "stdout",
     "output_type": "stream",
     "text": [
      "Epoch 1/50\n",
      "1563/1563 [==============================] - 46s 27ms/step - loss: 1.9525 - accuracy: 0.3003 - val_loss: 1.5426 - val_accuracy: 0.4328\n",
      "Epoch 2/50\n",
      "1563/1563 [==============================] - 39s 25ms/step - loss: 1.4377 - accuracy: 0.4827 - val_loss: 1.6495 - val_accuracy: 0.4393\n",
      "Epoch 3/50\n",
      "1563/1563 [==============================] - 41s 26ms/step - loss: 1.2243 - accuracy: 0.5761 - val_loss: 0.9904 - val_accuracy: 0.6436\n",
      "Epoch 4/50\n",
      "1563/1563 [==============================] - 41s 26ms/step - loss: 1.0998 - accuracy: 0.6253 - val_loss: 0.9888 - val_accuracy: 0.6588\n",
      "Epoch 5/50\n",
      "1563/1563 [==============================] - 40s 26ms/step - loss: 1.0035 - accuracy: 0.6644 - val_loss: 0.7619 - val_accuracy: 0.7329\n",
      "Epoch 6/50\n",
      "1563/1563 [==============================] - 39s 25ms/step - loss: 0.9300 - accuracy: 0.6930 - val_loss: 0.8113 - val_accuracy: 0.7192\n",
      "Epoch 7/50\n",
      "1563/1563 [==============================] - 40s 25ms/step - loss: 0.8765 - accuracy: 0.7112 - val_loss: 0.7126 - val_accuracy: 0.7526\n",
      "Epoch 8/50\n",
      "1563/1563 [==============================] - 40s 25ms/step - loss: 0.8256 - accuracy: 0.7301 - val_loss: 0.6931 - val_accuracy: 0.7629\n",
      "Epoch 9/50\n",
      "1563/1563 [==============================] - 39s 25ms/step - loss: 0.7899 - accuracy: 0.7444 - val_loss: 0.6686 - val_accuracy: 0.7785\n",
      "Epoch 10/50\n",
      "1563/1563 [==============================] - 40s 25ms/step - loss: 0.7633 - accuracy: 0.7519 - val_loss: 0.6210 - val_accuracy: 0.7952\n",
      "Epoch 11/50\n",
      "1563/1563 [==============================] - 40s 26ms/step - loss: 0.7347 - accuracy: 0.7621 - val_loss: 0.6257 - val_accuracy: 0.7867\n",
      "Epoch 12/50\n",
      "1563/1563 [==============================] - 44s 28ms/step - loss: 0.7167 - accuracy: 0.7689 - val_loss: 0.5373 - val_accuracy: 0.8202\n",
      "Epoch 13/50\n",
      "1563/1563 [==============================] - 40s 26ms/step - loss: 0.6897 - accuracy: 0.7770 - val_loss: 0.5644 - val_accuracy: 0.8082\n",
      "Epoch 14/50\n",
      "1563/1563 [==============================] - 41s 26ms/step - loss: 0.6659 - accuracy: 0.7847 - val_loss: 0.5880 - val_accuracy: 0.8013\n",
      "Epoch 15/50\n",
      "1563/1563 [==============================] - 42s 27ms/step - loss: 0.6550 - accuracy: 0.7890 - val_loss: 0.5272 - val_accuracy: 0.8230\n",
      "Epoch 16/50\n",
      "1563/1563 [==============================] - 40s 26ms/step - loss: 0.6407 - accuracy: 0.7937 - val_loss: 0.5301 - val_accuracy: 0.8240\n",
      "Epoch 17/50\n",
      "1563/1563 [==============================] - 40s 25ms/step - loss: 0.6197 - accuracy: 0.7997 - val_loss: 0.5150 - val_accuracy: 0.8319\n",
      "Epoch 18/50\n",
      "1563/1563 [==============================] - 39s 25ms/step - loss: 0.6111 - accuracy: 0.8034 - val_loss: 0.5365 - val_accuracy: 0.8257\n",
      "Epoch 19/50\n",
      "1563/1563 [==============================] - 40s 26ms/step - loss: 0.5981 - accuracy: 0.8091 - val_loss: 0.5203 - val_accuracy: 0.8286\n",
      "Epoch 20/50\n",
      "1563/1563 [==============================] - 40s 26ms/step - loss: 0.5848 - accuracy: 0.8114 - val_loss: 0.6059 - val_accuracy: 0.8058\n",
      "Epoch 21/50\n",
      "1563/1563 [==============================] - 40s 26ms/step - loss: 0.5787 - accuracy: 0.8143 - val_loss: 0.4871 - val_accuracy: 0.8382\n",
      "Epoch 22/50\n",
      "1563/1563 [==============================] - 40s 26ms/step - loss: 0.5646 - accuracy: 0.8193 - val_loss: 0.5050 - val_accuracy: 0.8353\n",
      "Epoch 23/50\n",
      "1563/1563 [==============================] - 44s 28ms/step - loss: 0.5616 - accuracy: 0.8201 - val_loss: 0.4930 - val_accuracy: 0.8360\n",
      "Epoch 24/50\n",
      "1563/1563 [==============================] - 40s 26ms/step - loss: 0.5497 - accuracy: 0.8244 - val_loss: 0.5272 - val_accuracy: 0.8260\n",
      "Epoch 25/50\n",
      "1563/1563 [==============================] - 45s 29ms/step - loss: 0.5391 - accuracy: 0.8258 - val_loss: 0.4631 - val_accuracy: 0.8462\n",
      "Epoch 26/50\n",
      "1563/1563 [==============================] - 44s 28ms/step - loss: 0.5194 - accuracy: 0.8343 - val_loss: 0.4976 - val_accuracy: 0.8383\n",
      "Epoch 27/50\n",
      "1563/1563 [==============================] - 42s 27ms/step - loss: 0.5163 - accuracy: 0.8338 - val_loss: 0.4810 - val_accuracy: 0.8404\n",
      "Epoch 28/50\n",
      "1563/1563 [==============================] - 45s 29ms/step - loss: 0.5139 - accuracy: 0.8364 - val_loss: 0.4941 - val_accuracy: 0.8366\n",
      "Epoch 29/50\n",
      "1563/1563 [==============================] - 50s 32ms/step - loss: 0.4991 - accuracy: 0.8400 - val_loss: 0.4858 - val_accuracy: 0.8439\n",
      "Epoch 30/50\n",
      "1563/1563 [==============================] - 49s 31ms/step - loss: 0.5005 - accuracy: 0.8398 - val_loss: 0.4913 - val_accuracy: 0.8435\n"
     ]
    },
    {
     "data": {
      "text/plain": [
       "<keras.callbacks.History at 0x7f1eb2861890>"
      ]
     },
     "execution_count": 65,
     "metadata": {},
     "output_type": "execute_result"
    }
   ],
   "source": [
    "model.fit(X_train, Y_train, batch_size=32, epochs=50, validation_data=(X_test,Y_test), callbacks=[early_stop])"
   ]
  },
  {
   "cell_type": "code",
   "execution_count": 66,
   "metadata": {
    "colab": {
     "base_uri": "https://localhost:8080/",
     "height": 206
    },
    "executionInfo": {
     "elapsed": 58,
     "status": "ok",
     "timestamp": 1649325587502,
     "user": {
      "displayName": "Steve Wallace",
      "userId": "06741533186265949524"
     },
     "user_tz": -180
    },
    "id": "uJxiZ-fCdubE",
    "outputId": "cce230bd-978b-4929-ae79-26becbf82f55"
   },
   "outputs": [
    {
     "data": {
      "text/html": [
       "\n",
       "  <div id=\"df-e77a4084-7258-41b9-b56e-786cb1dbdc3f\">\n",
       "    <div class=\"colab-df-container\">\n",
       "      <div>\n",
       "<style scoped>\n",
       "    .dataframe tbody tr th:only-of-type {\n",
       "        vertical-align: middle;\n",
       "    }\n",
       "\n",
       "    .dataframe tbody tr th {\n",
       "        vertical-align: top;\n",
       "    }\n",
       "\n",
       "    .dataframe thead th {\n",
       "        text-align: right;\n",
       "    }\n",
       "</style>\n",
       "<table border=\"1\" class=\"dataframe\">\n",
       "  <thead>\n",
       "    <tr style=\"text-align: right;\">\n",
       "      <th></th>\n",
       "      <th>loss</th>\n",
       "      <th>accuracy</th>\n",
       "      <th>val_loss</th>\n",
       "      <th>val_accuracy</th>\n",
       "    </tr>\n",
       "  </thead>\n",
       "  <tbody>\n",
       "    <tr>\n",
       "      <th>0</th>\n",
       "      <td>1.952</td>\n",
       "      <td>0.300</td>\n",
       "      <td>1.543</td>\n",
       "      <td>0.433</td>\n",
       "    </tr>\n",
       "    <tr>\n",
       "      <th>1</th>\n",
       "      <td>1.438</td>\n",
       "      <td>0.483</td>\n",
       "      <td>1.649</td>\n",
       "      <td>0.439</td>\n",
       "    </tr>\n",
       "    <tr>\n",
       "      <th>2</th>\n",
       "      <td>1.224</td>\n",
       "      <td>0.576</td>\n",
       "      <td>0.990</td>\n",
       "      <td>0.644</td>\n",
       "    </tr>\n",
       "    <tr>\n",
       "      <th>3</th>\n",
       "      <td>1.100</td>\n",
       "      <td>0.625</td>\n",
       "      <td>0.989</td>\n",
       "      <td>0.659</td>\n",
       "    </tr>\n",
       "    <tr>\n",
       "      <th>4</th>\n",
       "      <td>1.004</td>\n",
       "      <td>0.664</td>\n",
       "      <td>0.762</td>\n",
       "      <td>0.733</td>\n",
       "    </tr>\n",
       "  </tbody>\n",
       "</table>\n",
       "</div>\n",
       "      <button class=\"colab-df-convert\" onclick=\"convertToInteractive('df-e77a4084-7258-41b9-b56e-786cb1dbdc3f')\"\n",
       "              title=\"Convert this dataframe to an interactive table.\"\n",
       "              style=\"display:none;\">\n",
       "        \n",
       "  <svg xmlns=\"http://www.w3.org/2000/svg\" height=\"24px\"viewBox=\"0 0 24 24\"\n",
       "       width=\"24px\">\n",
       "    <path d=\"M0 0h24v24H0V0z\" fill=\"none\"/>\n",
       "    <path d=\"M18.56 5.44l.94 2.06.94-2.06 2.06-.94-2.06-.94-.94-2.06-.94 2.06-2.06.94zm-11 1L8.5 8.5l.94-2.06 2.06-.94-2.06-.94L8.5 2.5l-.94 2.06-2.06.94zm10 10l.94 2.06.94-2.06 2.06-.94-2.06-.94-.94-2.06-.94 2.06-2.06.94z\"/><path d=\"M17.41 7.96l-1.37-1.37c-.4-.4-.92-.59-1.43-.59-.52 0-1.04.2-1.43.59L10.3 9.45l-7.72 7.72c-.78.78-.78 2.05 0 2.83L4 21.41c.39.39.9.59 1.41.59.51 0 1.02-.2 1.41-.59l7.78-7.78 2.81-2.81c.8-.78.8-2.07 0-2.86zM5.41 20L4 18.59l7.72-7.72 1.47 1.35L5.41 20z\"/>\n",
       "  </svg>\n",
       "      </button>\n",
       "      \n",
       "  <style>\n",
       "    .colab-df-container {\n",
       "      display:flex;\n",
       "      flex-wrap:wrap;\n",
       "      gap: 12px;\n",
       "    }\n",
       "\n",
       "    .colab-df-convert {\n",
       "      background-color: #E8F0FE;\n",
       "      border: none;\n",
       "      border-radius: 50%;\n",
       "      cursor: pointer;\n",
       "      display: none;\n",
       "      fill: #1967D2;\n",
       "      height: 32px;\n",
       "      padding: 0 0 0 0;\n",
       "      width: 32px;\n",
       "    }\n",
       "\n",
       "    .colab-df-convert:hover {\n",
       "      background-color: #E2EBFA;\n",
       "      box-shadow: 0px 1px 2px rgba(60, 64, 67, 0.3), 0px 1px 3px 1px rgba(60, 64, 67, 0.15);\n",
       "      fill: #174EA6;\n",
       "    }\n",
       "\n",
       "    [theme=dark] .colab-df-convert {\n",
       "      background-color: #3B4455;\n",
       "      fill: #D2E3FC;\n",
       "    }\n",
       "\n",
       "    [theme=dark] .colab-df-convert:hover {\n",
       "      background-color: #434B5C;\n",
       "      box-shadow: 0px 1px 3px 1px rgba(0, 0, 0, 0.15);\n",
       "      filter: drop-shadow(0px 1px 2px rgba(0, 0, 0, 0.3));\n",
       "      fill: #FFFFFF;\n",
       "    }\n",
       "  </style>\n",
       "\n",
       "      <script>\n",
       "        const buttonEl =\n",
       "          document.querySelector('#df-e77a4084-7258-41b9-b56e-786cb1dbdc3f button.colab-df-convert');\n",
       "        buttonEl.style.display =\n",
       "          google.colab.kernel.accessAllowed ? 'block' : 'none';\n",
       "\n",
       "        async function convertToInteractive(key) {\n",
       "          const element = document.querySelector('#df-e77a4084-7258-41b9-b56e-786cb1dbdc3f');\n",
       "          const dataTable =\n",
       "            await google.colab.kernel.invokeFunction('convertToInteractive',\n",
       "                                                     [key], {});\n",
       "          if (!dataTable) return;\n",
       "\n",
       "          const docLinkHtml = 'Like what you see? Visit the ' +\n",
       "            '<a target=\"_blank\" href=https://colab.research.google.com/notebooks/data_table.ipynb>data table notebook</a>'\n",
       "            + ' to learn more about interactive tables.';\n",
       "          element.innerHTML = '';\n",
       "          dataTable['output_type'] = 'display_data';\n",
       "          await google.colab.output.renderOutput(dataTable, element);\n",
       "          const docLink = document.createElement('div');\n",
       "          docLink.innerHTML = docLinkHtml;\n",
       "          element.appendChild(docLink);\n",
       "        }\n",
       "      </script>\n",
       "    </div>\n",
       "  </div>\n",
       "  "
      ],
      "text/plain": [
       "   loss  accuracy  val_loss  val_accuracy\n",
       "0 1.952     0.300     1.543         0.433\n",
       "1 1.438     0.483     1.649         0.439\n",
       "2 1.224     0.576     0.990         0.644\n",
       "3 1.100     0.625     0.989         0.659\n",
       "4 1.004     0.664     0.762         0.733"
      ]
     },
     "execution_count": 66,
     "metadata": {},
     "output_type": "execute_result"
    }
   ],
   "source": [
    "summary = pd.DataFrame(model.history.history)\n",
    "summary.head()"
   ]
  },
  {
   "cell_type": "code",
   "execution_count": 67,
   "metadata": {
    "colab": {
     "base_uri": "https://localhost:8080/",
     "height": 266
    },
    "executionInfo": {
     "elapsed": 39120,
     "status": "ok",
     "timestamp": 1649325626581,
     "user": {
      "displayName": "Steve Wallace",
      "userId": "06741533186265949524"
     },
     "user_tz": -180
    },
    "id": "2YgTWfLIdubF",
    "outputId": "15ef82b2-94ae-477b-ed94-c30addb94f12"
   },
   "outputs": [
    {
     "data": {
      "image/png": "[encoded data removed]",
      "text/plain": [
       "<Figure size 432x288 with 1 Axes>"
      ]
     },
     "metadata": {
      "needs_background": "light"
     },
     "output_type": "display_data"
    }
   ],
   "source": [
    "summary[[\"loss\", \"val_loss\"]].plot();"
   ]
  },
  {
   "cell_type": "code",
   "execution_count": 68,
   "metadata": {
    "colab": {
     "base_uri": "https://localhost:8080/",
     "height": 265
    },
    "executionInfo": {
     "elapsed": 24,
     "status": "ok",
     "timestamp": 1649325626582,
     "user": {
      "displayName": "Steve Wallace",
      "userId": "06741533186265949524"
     },
     "user_tz": -180
    },
    "id": "hFiiNtHqdubF",
    "outputId": "2dc3f515-76c3-4a83-c9c6-13d990b5a165"
   },
   "outputs": [
    {
     "data": {
      "image/png": "[encoded data removed]",
      "text/plain": [
       "<Figure size 432x288 with 1 Axes>"
      ]
     },
     "metadata": {
      "needs_background": "light"
     },
     "output_type": "display_data"
    }
   ],
   "source": [
    "summary[[\"accuracy\", \"val_accuracy\"]].plot();"
   ]
  },
  {
   "cell_type": "markdown",
   "metadata": {
    "id": "RmLofMbVdubF"
   },
   "source": [
    "# Evaluation on Test Data"
   ]
  },
  {
   "cell_type": "code",
   "execution_count": 69,
   "metadata": {
    "colab": {
     "base_uri": "https://localhost:8080/"
    },
    "executionInfo": {
     "elapsed": 3738,
     "status": "ok",
     "timestamp": 1649325630299,
     "user": {
      "displayName": "Steve Wallace",
      "userId": "06741533186265949524"
     },
     "user_tz": -180
    },
    "id": "pyFi7BIKdubF",
    "outputId": "2764643c-55de-4559-fba5-7ee5f314f8bc"
   },
   "outputs": [
    {
     "name": "stdout",
     "output_type": "stream",
     "text": [
      "313/313 [==============================] - 3s 11ms/step - loss: 0.4631 - accuracy: 0.8462\n"
     ]
    },
    {
     "data": {
      "text/plain": [
       "[0.4631006717681885, 0.8461999893188477]"
      ]
     },
     "execution_count": 69,
     "metadata": {},
     "output_type": "execute_result"
    }
   ],
   "source": [
    "model.evaluate(X_test, Y_test)"
   ]
  },
  {
   "cell_type": "code",
   "execution_count": 70,
   "metadata": {
    "colab": {
     "base_uri": "https://localhost:8080/"
    },
    "executionInfo": {
     "elapsed": 5294,
     "status": "ok",
     "timestamp": 1649325635577,
     "user": {
      "displayName": "Steve Wallace",
      "userId": "06741533186265949524"
     },
     "user_tz": -180
    },
    "id": "pncwT-vBdubF",
    "outputId": "67d44988-9456-479f-909b-216657e22bbc"
   },
   "outputs": [
    {
     "name": "stdout",
     "output_type": "stream",
     "text": [
      "Test loss: 0.4631006717681885\n",
      "Test accuracy: 0.8461999893188477\n"
     ]
    }
   ],
   "source": [
    "score = model.evaluate(X_test, Y_test, verbose=0)\n",
    "print('Test loss:', score[0])\n",
    "print('Test accuracy:', score[1])"
   ]
  },
  {
   "cell_type": "code",
   "execution_count": 71,
   "metadata": {
    "executionInfo": {
     "elapsed": 2359,
     "status": "ok",
     "timestamp": 1649325637924,
     "user": {
      "displayName": "Steve Wallace",
      "userId": "06741533186265949524"
     },
     "user_tz": -180
    },
    "id": "fIj6MSJYdubG"
   },
   "outputs": [],
   "source": [
    "pred_prob = model.predict(X_test)"
   ]
  },
  {
   "cell_type": "code",
   "execution_count": 72,
   "metadata": {
    "executionInfo": {
     "elapsed": 18,
     "status": "ok",
     "timestamp": 1649325637925,
     "user": {
      "displayName": "Steve Wallace",
      "userId": "06741533186265949524"
     },
     "user_tz": -180
    },
    "id": "mZtBO3P_dubG"
   },
   "outputs": [],
   "source": [
    "y_pred = np.argmax(pred_prob, axis=1)"
   ]
  },
  {
   "cell_type": "code",
   "execution_count": 73,
   "metadata": {
    "colab": {
     "base_uri": "https://localhost:8080/"
    },
    "executionInfo": {
     "elapsed": 16,
     "status": "ok",
     "timestamp": 1649325637925,
     "user": {
      "displayName": "Steve Wallace",
      "userId": "06741533186265949524"
     },
     "user_tz": -180
    },
    "id": "uN6OBzMpdubG",
    "outputId": "06e4eeaf-3b80-4c7f-fb9b-6e5fb00e8b13"
   },
   "outputs": [
    {
     "data": {
      "text/plain": [
       "array([3, 8, 8, ..., 5, 1, 7])"
      ]
     },
     "execution_count": 73,
     "metadata": {},
     "output_type": "execute_result"
    }
   ],
   "source": [
    "y_pred"
   ]
  },
  {
   "cell_type": "code",
   "execution_count": 74,
   "metadata": {
    "colab": {
     "base_uri": "https://localhost:8080/"
    },
    "executionInfo": {
     "elapsed": 15,
     "status": "ok",
     "timestamp": 1649325637926,
     "user": {
      "displayName": "Steve Wallace",
      "userId": "06741533186265949524"
     },
     "user_tz": -180
    },
    "id": "ycVWlS8_dubG",
    "outputId": "2d154fe5-135e-4ef7-e2ce-c6c29f13e32e"
   },
   "outputs": [
    {
     "name": "stdout",
     "output_type": "stream",
     "text": [
      "              precision    recall  f1-score   support\n",
      "\n",
      "           0       0.83      0.89      0.86      1000\n",
      "           1       0.91      0.95      0.93      1000\n",
      "           2       0.76      0.78      0.77      1000\n",
      "           3       0.76      0.63      0.69      1000\n",
      "           4       0.83      0.84      0.84      1000\n",
      "           5       0.80      0.74      0.77      1000\n",
      "           6       0.84      0.91      0.87      1000\n",
      "           7       0.89      0.89      0.89      1000\n",
      "           8       0.90      0.92      0.91      1000\n",
      "           9       0.91      0.92      0.91      1000\n",
      "\n",
      "    accuracy                           0.85     10000\n",
      "   macro avg       0.84      0.85      0.84     10000\n",
      "weighted avg       0.84      0.85      0.84     10000\n",
      "\n"
     ]
    }
   ],
   "source": [
    "print(classification_report(y_test, y_pred))"
   ]
  },
  {
   "cell_type": "code",
   "execution_count": 75,
   "metadata": {
    "colab": {
     "base_uri": "https://localhost:8080/",
     "height": 609
    },
    "executionInfo": {
     "elapsed": 1108,
     "status": "ok",
     "timestamp": 1649325639024,
     "user": {
      "displayName": "Steve Wallace",
      "userId": "06741533186265949524"
     },
     "user_tz": -180
    },
    "id": "JNOK4v7fdubG",
    "outputId": "847ffa3c-7359-4e69-ddf7-c5052e7428aa",
    "scrolled": true
   },
   "outputs": [
    {
     "data": {
      "text/plain": [
       "<matplotlib.axes._subplots.AxesSubplot at 0x7f1ebd0fa9d0>"
      ]
     },
     "execution_count": 75,
     "metadata": {},
     "output_type": "execute_result"
    },
    {
     "data": {
      "image/png": "[encoded data removed]",
      "text/plain": [
       "<Figure size 1080x720 with 2 Axes>"
      ]
     },
     "metadata": {
      "needs_background": "light"
     },
     "output_type": "display_data"
    }
   ],
   "source": [
    "plt.figure(figsize=(15,10))\n",
    "sns.heatmap(confusion_matrix(y_test, y_pred), annot=True, cmap=\"Blues\", linewidths=.5, linecolor='black', fmt='g', annot_kws = {\"size\": 14})"
   ]
  },
  {
   "cell_type": "markdown",
   "metadata": {
    "id": "26s5IPpndubH"
   },
   "source": [
    "# Prediction"
   ]
  },
  {
   "cell_type": "code",
   "execution_count": 76,
   "metadata": {
    "executionInfo": {
     "elapsed": 24,
     "status": "ok",
     "timestamp": 1649325639025,
     "user": {
      "displayName": "Steve Wallace",
      "userId": "06741533186265949524"
     },
     "user_tz": -180
    },
    "id": "WduIUJj64rIp"
   },
   "outputs": [],
   "source": [
    "my_image = X_test[44]"
   ]
  },
  {
   "cell_type": "code",
   "execution_count": 77,
   "metadata": {
    "colab": {
     "base_uri": "https://localhost:8080/"
    },
    "executionInfo": {
     "elapsed": 24,
     "status": "ok",
     "timestamp": 1649325639026,
     "user": {
      "displayName": "Steve Wallace",
      "userId": "06741533186265949524"
     },
     "user_tz": -180
    },
    "id": "yZrGB9bNdubH",
    "outputId": "f1c6a9e5-c80c-41af-d378-a1d8bb98115e"
   },
   "outputs": [
    {
     "data": {
      "text/plain": [
       "(32, 32, 3)"
      ]
     },
     "execution_count": 77,
     "metadata": {},
     "output_type": "execute_result"
    }
   ],
   "source": [
    "my_image.shape"
   ]
  },
  {
   "cell_type": "code",
   "execution_count": 78,
   "metadata": {
    "colab": {
     "base_uri": "https://localhost:8080/",
     "height": 283
    },
    "executionInfo": {
     "elapsed": 425,
     "status": "ok",
     "timestamp": 1649325639432,
     "user": {
      "displayName": "Steve Wallace",
      "userId": "06741533186265949524"
     },
     "user_tz": -180
    },
    "id": "18_nBUbAN1fh",
    "outputId": "f8ff4b13-85ab-4155-d84b-912461db1f70"
   },
   "outputs": [
    {
     "data": {
      "text/plain": [
       "<matplotlib.image.AxesImage at 0x7f1f30c52450>"
      ]
     },
     "execution_count": 78,
     "metadata": {},
     "output_type": "execute_result"
    },
    {
     "data": {
      "image/png": "[encoded data removed]",
      "text/plain": [
       "<Figure size 432x288 with 1 Axes>"
      ]
     },
     "metadata": {
      "needs_background": "light"
     },
     "output_type": "display_data"
    }
   ],
   "source": [
    "plt.imshow(my_image)"
   ]
  },
  {
   "cell_type": "code",
   "execution_count": 79,
   "metadata": {
    "executionInfo": {
     "elapsed": 439,
     "status": "ok",
     "timestamp": 1649325639846,
     "user": {
      "displayName": "Steve Wallace",
      "userId": "06741533186265949524"
     },
     "user_tz": -180
    },
    "id": "1DCFzSFtOGZF"
   },
   "outputs": [],
   "source": [
    "image_prediction = model.predict(my_image.reshape(1,32,32,3))"
   ]
  },
  {
   "cell_type": "code",
   "execution_count": 80,
   "metadata": {
    "colab": {
     "base_uri": "https://localhost:8080/"
    },
    "executionInfo": {
     "elapsed": 42,
     "status": "ok",
     "timestamp": 1649325639846,
     "user": {
      "displayName": "Steve Wallace",
      "userId": "06741533186265949524"
     },
     "user_tz": -180
    },
    "id": "1eLDckyvdubI",
    "outputId": "2beffcdc-8a76-459d-a0d8-98a3a69eca37"
   },
   "outputs": [
    {
     "data": {
      "text/plain": [
       "array([[9.9703491e-01, 4.6185750e-04, 5.5369007e-04, 8.1711092e-05,\n",
       "        7.8472272e-05, 3.1356012e-05, 8.2695406e-05, 9.2875474e-05,\n",
       "        8.0606469e-04, 7.7639491e-04]], dtype=float32)"
      ]
     },
     "execution_count": 80,
     "metadata": {},
     "output_type": "execute_result"
    }
   ],
   "source": [
    "image_prediction"
   ]
  },
  {
   "cell_type": "code",
   "execution_count": 81,
   "metadata": {
    "colab": {
     "base_uri": "https://localhost:8080/"
    },
    "executionInfo": {
     "elapsed": 40,
     "status": "ok",
     "timestamp": 1649325639847,
     "user": {
      "displayName": "Steve Wallace",
      "userId": "06741533186265949524"
     },
     "user_tz": -180
    },
    "id": "zetmO1KEN4ro",
    "outputId": "7f078746-5271-4472-c9a2-8918cff5dae3"
   },
   "outputs": [
    {
     "data": {
      "text/plain": [
       "array([0])"
      ]
     },
     "execution_count": 81,
     "metadata": {},
     "output_type": "execute_result"
    }
   ],
   "source": [
    "np.argmax(image_prediction, axis=1)"
   ]
  },
  {
   "cell_type": "code",
   "execution_count": 82,
   "metadata": {
    "executionInfo": {
     "elapsed": 34,
     "status": "ok",
     "timestamp": 1649325639847,
     "user": {
      "displayName": "Steve Wallace",
      "userId": "06741533186265949524"
     },
     "user_tz": -180
    },
    "id": "ytupOpKKYLPY"
   },
   "outputs": [],
   "source": [
    "result=np.argmax(image_prediction, axis=1)"
   ]
  },
  {
   "cell_type": "code",
   "execution_count": 83,
   "metadata": {
    "colab": {
     "base_uri": "https://localhost:8080/"
    },
    "executionInfo": {
     "elapsed": 35,
     "status": "ok",
     "timestamp": 1649325639849,
     "user": {
      "displayName": "Steve Wallace",
      "userId": "06741533186265949524"
     },
     "user_tz": -180
    },
    "id": "e4yzm_gQdubI",
    "outputId": "6e193e8d-34ce-424a-9ab3-8c51166aeeea"
   },
   "outputs": [
    {
     "data": {
      "text/plain": [
       "array([0])"
      ]
     },
     "execution_count": 83,
     "metadata": {},
     "output_type": "execute_result"
    }
   ],
   "source": [
    "result"
   ]
  },
  {
   "cell_type": "code",
   "execution_count": 84,
   "metadata": {
    "colab": {
     "base_uri": "https://localhost:8080/",
     "height": 35
    },
    "executionInfo": {
     "elapsed": 32,
     "status": "ok",
     "timestamp": 1649325639851,
     "user": {
      "displayName": "Steve Wallace",
      "userId": "06741533186265949524"
     },
     "user_tz": -180
    },
    "id": "P4hN7cPtdubI",
    "outputId": "1f0c56a3-5c23-4680-fb34-3f9c219dd527"
   },
   "outputs": [
    {
     "data": {
      "application/vnd.google.colaboratory.intrinsic+json": {
       "type": "string"
      },
      "text/plain": [
       "'airplane'"
      ]
     },
     "execution_count": 84,
     "metadata": {},
     "output_type": "execute_result"
    }
   ],
   "source": [
    "classes[int(result)]"
   ]
  },
  {
   "cell_type": "code",
   "execution_count": 85,
   "metadata": {
    "executionInfo": {
     "elapsed": 33,
     "status": "ok",
     "timestamp": 1649325639853,
     "user": {
      "displayName": "Steve Wallace",
      "userId": "06741533186265949524"
     },
     "user_tz": -180
    },
    "id": "OuF9luxd1p56"
   },
   "outputs": [],
   "source": [
    "#model.save(\"cnn-1.h5\")"
   ]
  }
 ],
 "metadata": {
  "accelerator": "GPU",
  "colab": {
   "collapsed_sections": [],
   "name": "DL-S6 (Image Classification with CNN-CIFAR10).ipynb",
   "provenance": []
  },
  "environment": {
   "kernel": "python3",
   "name": "tf2-gpu.2-6.m82",
   "type": "gcloud",
   "uri": "gcr.io/deeplearning-platform-release/tf2-gpu.2-6:m82"
  },
  "kernelspec": {
   "display_name": "Python 3",
   "language": "python",
   "name": "python3"
  },
  "language_info": {
   "codemirror_mode": {
    "name": "ipython",
    "version": 3
   },
   "file_extension": ".py",
   "mimetype": "text/x-python",
   "name": "python",
   "nbconvert_exporter": "python",
   "pygments_lexer": "ipython3",
   "version": "3.7.6"
  },
  "toc": {
   "base_numbering": 1,
   "nav_menu": {},
   "number_sections": false,
   "sideBar": true,
   "skip_h1_title": false,
   "title_cell": "Table of Contents",
   "title_sidebar": "Contents",
   "toc_cell": false,
   "toc_position": {},
   "toc_section_display": true,
   "toc_window_display": true
  }
 },
 "nbformat": 4,
 "nbformat_minor": 1
}
